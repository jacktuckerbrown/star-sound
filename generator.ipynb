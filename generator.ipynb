{
 "cells": [
  {
   "cell_type": "markdown",
   "metadata": {
    "heading_collapsed": true
   },
   "source": [
    "# Preamble"
   ]
  },
  {
   "cell_type": "markdown",
   "metadata": {
    "hidden": true
   },
   "source": [
    "We'll start by formatting the notebook, and running some diagnostics for checking the systems sound output is working correctly. Then, I've imported the Python modules required."
   ]
  },
  {
   "cell_type": "code",
   "execution_count": 1,
   "metadata": {
    "ExecuteTime": {
     "end_time": "2021-07-06T16:30:06.553046Z",
     "start_time": "2021-07-06T16:30:06.543621Z"
    },
    "hidden": true
   },
   "outputs": [
    {
     "data": {
      "text/html": [
       "<style>.container { width:75% !important; }</style>"
      ],
      "text/plain": [
       "<IPython.core.display.HTML object>"
      ]
     },
     "metadata": {},
     "output_type": "display_data"
    }
   ],
   "source": [
    "from IPython.core.display import display, HTML\n",
    "display(HTML(\"<style>.container { width:75% !important; }</style>\"))"
   ]
  },
  {
   "cell_type": "code",
   "execution_count": 2,
   "metadata": {
    "ExecuteTime": {
     "end_time": "2021-07-06T16:29:46.052184Z",
     "start_time": "2021-07-06T16:29:36.485273Z"
    },
    "hidden": true
   },
   "outputs": [
    {
     "name": "stdout",
     "output_type": "stream",
     "text": [
      "* Checking for any available audio input... *\n",
      "* Checking audio output hosts... *\n"
     ]
    },
    {
     "data": {
      "text/plain": [
       "<pyo.lib.server.Server at 0x11be6e6c040>"
      ]
     },
     "execution_count": 2,
     "metadata": {},
     "output_type": "execute_result"
    }
   ],
   "source": [
    "\"\"\"\n",
    "Windows audio host inspector.\n",
    "\n",
    "This script will check if pyo can run in duplex mode (both audio input and output)\n",
    "and will test every host API to help the user in making his audio device choice.\n",
    "\n",
    "\"\"\"\n",
    "import sys, time\n",
    "from pyo import *\n",
    "\n",
    "if sys.platform == \"win32\":\n",
    "    host_apis = [\"mme\", \"directsound\", \"asio\", \"wasapi\", \"wdm-ks\"]\n",
    "else:\n",
    "    print(\"This program must be used on a windows system! Ciao!\")\n",
    "    exit()\n",
    "\n",
    "\n",
    "print(\"* Checking for any available audio input... *\")\n",
    "\n",
    "input_names, input_indexes  = pa_get_input_devices()\n",
    "\n",
    "print(\"* Checking audio output hosts... *\")\n",
    "\n",
    "s = Server(duplex=0)\n",
    "s.verbosity = 0\n",
    "\n",
    "host_results = []\n",
    "for host in host_apis:\n",
    "    print(\"* Testing %s... *\" % host)\n",
    "    try:\n",
    "        s.reinit(buffersize=1024, duplex=0, winhost=host)\n",
    "        s.boot().start()\n",
    "        a = Sine(freq=440, mul=0.2).out()\n",
    "        time.sleep(2)\n",
    "        s.stop()\n",
    "        s.shutdown()\n",
    "        host_results.append(True)\n",
    "    except:\n",
    "        host_results.append(False)\n",
    "\n",
    "print(\"\\nResults\")\n",
    "print(\"-------\\n\")\n",
    "\n",
    "if len(input_names):\n",
    "    print(\"Duplex mode OK!\")\n",
    "    print(\"Initialize the Server with duplex=1 as argument.\\n\")\n",
    "else:\n",
    "    print(\"No input available. Duplex mode should be turned off.\")\n",
    "    print(\"Initialize the Server with duplex=0 as argument.\\n\")\n",
    "\n",
    "for i, host in enumerate(host_apis):\n",
    "    if host_results[i]:\n",
    "        print(\"Host: %s  ==>  OK!\" % host)\n",
    "    else:\n",
    "        print(\"Host: %s  ==>  Failed...\" % host)\n",
    "\n",
    "print(\"Initialize the Server with the desired host given to winhost argument.\")\n",
    "\n",
    "print(\"\\nFinished!\")\n",
    "\n",
    "s = Server(sr=44100,duplex=1,winhost=\"wasapi\").boot()\n",
    "s.start()"
   ]
  },
  {
   "cell_type": "code",
   "execution_count": 3,
   "metadata": {
    "ExecuteTime": {
     "end_time": "2021-07-06T16:29:50.925355Z",
     "start_time": "2021-07-06T16:29:50.375567Z"
    },
    "hidden": true
   },
   "outputs": [],
   "source": [
    "import pyo\n",
    "\n",
    "s = pyo.Server()\n",
    "s.boot()\n",
    "s.start()\n",
    "s.setInputDevice(4)\n",
    "s.setOutputDevice(4)"
   ]
  },
  {
   "cell_type": "code",
   "execution_count": 2,
   "metadata": {
    "ExecuteTime": {
     "end_time": "2021-07-06T16:30:17.978114Z",
     "start_time": "2021-07-06T16:30:11.304700Z"
    },
    "hidden": true
   },
   "outputs": [],
   "source": [
    "import matplotlib\n",
    "import librosa \n",
    "import matplotlib.pyplot as plt ## For plots and visual data\n",
    "import IPython.display as ipd ## For displaying audio widgets\n",
    "import lightkurve as lk ## For generation of light curves\n",
    "import matplotlib.pyplot as plt ## Standard visual data creation module\n",
    "import librosa.display\n",
    "import numpy as np\n",
    "import os\n",
    "import pandas as pd\n",
    "import sqlite3 ## Database creation\n",
    "import mysql.connector\n",
    "import jupyterthemes\n",
    "import math\n",
    "import matplotlib.animation as animation\n",
    "import random\n",
    "import ffmpeg\n",
    "import sys\n",
    "import datetime\n",
    "#sys.stdout = open(1, 'w')\n",
    "\n",
    "from astronify.series import SoniSeries ## For sonifying the data\n",
    "from lightkurve import search_targetpixelfile ## 2D pixel heatmaps etc.\n",
    "from astropy.io import fits\n",
    "from astropy.table import Table\n",
    "from astronify import simulator, series\n",
    "from celluloid import Camera\n",
    "from pyo import *\n",
    "from pathlib import Path\n",
    "matplotlib.rcParams.update({'font.size': 22})"
   ]
  },
  {
   "cell_type": "markdown",
   "metadata": {
    "heading_collapsed": true
   },
   "source": [
    "# Setting light curve parameters"
   ]
  },
  {
   "cell_type": "markdown",
   "metadata": {
    "hidden": true
   },
   "source": [
    "Here we'll set some parameters for the curves we want to produce. With six values of signal-to-noise, and three values for the number of transits (0, 1 and 2, note 0 transit curves are done separately), 18 curves will be generated. \n",
    "\n",
    "From the values of SNR we want to test at, we can obtain a value for the corresponding standard deviation of noise which is calculated depending on the transits width and depth. This is what astronify takes as input for it's noise parameter. We can also obtain a parameter for the distance between transits which I've called freq_param. This equates to 1000 for curves of one transit, and 500 for curves of two."
   ]
  },
  {
   "cell_type": "code",
   "execution_count": 9,
   "metadata": {
    "ExecuteTime": {
     "end_time": "2021-07-06T16:43:32.265987Z",
     "start_time": "2021-07-06T16:43:32.261486Z"
    },
    "hidden": true
   },
   "outputs": [],
   "source": [
    "snr = [3,5,7,10,30,100] # The signal to noise ratio we are testing for\n",
    "transit_length = 1000 # Affects length of sonification, we wanted to keep this at about 10 seconds and 1000 was appropriate\n",
    "t_depth = 25 # The depth of the transit as a percentage of the brightness flux\n",
    "width_param = 0.1 # Transit length as fraction of total\n",
    "transit_n = [1,2] # Number of transits we want in the data\n",
    "t_width = transit_length*width_param # In our case, 100\n",
    "\n",
    "noise_sd = [] \n",
    "for x in snr:\n",
    "    noise_sd.append(np.sqrt(width_param*transit_length)*t_depth/x) ## The actual noise sigma values for astronify\n",
    "    \n",
    "freq_param = []\n",
    "for x in transit_n:\n",
    "    freq_param.append(int(transit_length/x)) # This is why zero-transit data is done separately"
   ]
  },
  {
   "cell_type": "code",
   "execution_count": 6,
   "metadata": {
    "ExecuteTime": {
     "end_time": "2021-07-06T16:30:42.570432Z",
     "start_time": "2021-07-06T16:30:42.566005Z"
    },
    "hidden": true
   },
   "outputs": [
    {
     "data": {
      "text/plain": [
       "('Standard deviations of noise to put in are:',\n",
       " [83.33333333333333, 50.0, 35.714285714285715, 25.0, 8.333333333333334, 2.5])"
      ]
     },
     "execution_count": 6,
     "metadata": {},
     "output_type": "execute_result"
    }
   ],
   "source": [
    "\"Standard deviations of noise to put in are:\" ,noise_sd"
   ]
  },
  {
   "cell_type": "code",
   "execution_count": 7,
   "metadata": {
    "ExecuteTime": {
     "end_time": "2021-07-06T16:30:43.337499Z",
     "start_time": "2021-07-06T16:30:43.334028Z"
    },
    "hidden": true
   },
   "outputs": [
    {
     "data": {
      "text/plain": [
       "('Transit periods:', [1000, 500])"
      ]
     },
     "execution_count": 7,
     "metadata": {},
     "output_type": "execute_result"
    }
   ],
   "source": [
    "\"Transit periods:\", freq_param"
   ]
  },
  {
   "cell_type": "markdown",
   "metadata": {
    "heading_collapsed": true
   },
   "source": [
    "# Generating an example transit with noise and no noise"
   ]
  },
  {
   "cell_type": "markdown",
   "metadata": {
    "hidden": true
   },
   "source": [
    "Now we're ready to start using astronify to generate transit light curves. We'll start with a curve of one transit, using the formula t_start to semi-randomize the position of the transit (this is to avoid it being directly at the start mainly).\n",
    "\n",
    "Saving to the system is commented out."
   ]
  },
  {
   "cell_type": "code",
   "execution_count": 13,
   "metadata": {
    "ExecuteTime": {
     "end_time": "2021-07-06T16:50:45.064153Z",
     "start_time": "2021-07-06T16:50:44.733872Z"
    },
    "hidden": true
   },
   "outputs": [
    {
     "data": {
      "text/plain": [
       "Text(0, 0.5, 'Brightness flux (arbitrary units)')"
      ]
     },
     "execution_count": 13,
     "metadata": {},
     "output_type": "execute_result"
    },
    {
     "data": {
      "image/png": "[encoded data removed]",
      "text/plain": [
       "<Figure size 1152x720 with 1 Axes>"
      ]
     },
     "metadata": {
      "needs_background": "light"
     },
     "output_type": "display_data"
    },
    {
     "data": {
      "image/png": "[encoded data removed]",
      "text/plain": [
       "<Figure size 1152x720 with 1 Axes>"
      ]
     },
     "metadata": {
      "needs_background": "light"
     },
     "output_type": "display_data"
    }
   ],
   "source": [
    "n_transit = 1\n",
    "t_period = int(transit_length/n_transit)\n",
    "t_start = int(transit_length/(2.*n_transit)-t_width/2. + random.randint(-1*t_period/4, t_period/4)) \n",
    "\n",
    "# For curves of one transit, it will start at ~half-way point, for two transits at ~quarter-way and three quarter-way points.\n",
    "# Due to the randomness of the transit starts, the generated dataset won't be exactly the same as the one with which I \n",
    "# carried out the user testing.\n",
    "\n",
    "lc_data_noise = simulator.simulated_lc(\"transit\", visualize=False, \n",
    "                                       transit_depth=int(t_depth), transit_period=t_period,\n",
    "                                       transit_width=int(t_width), lc_noise=2.5, \n",
    "                                       lc_length=int(transit_length),transit_start=t_start)\n",
    "\n",
    "f, ax = plt.subplots(figsize=(16, 10))\n",
    "ax.plot(lc_data_noise['time'], lc_data_noise['flux'],'-o', linewidth=0)\n",
    "ax.set_xlabel(\"Time (JD)\")\n",
    "ax.set_ylabel(\"Brightness flux (arbitrary units)\")\n",
    "\n",
    "#plt.savefig(\"Example noisy transit.png\")\n",
    "\n",
    "lc_data_noiseless = simulator.simulated_lc(\"transit\", visualize=False, \n",
    "                                           transit_depth=int(t_depth), transit_period=t_period,\n",
    "                                           transit_width=int(t_width), lc_noise=0, \n",
    "                                           lc_length=int(transit_length),transit_start=t_start)\n",
    "\n",
    "f, ax = plt.subplots(figsize=(16, 10))\n",
    "ax.plot(lc_data_noiseless['time'], lc_data_noiseless['flux'],'-o', linewidth=0)\n",
    "ax.set_xlabel(\"Time (JD)\")\n",
    "ax.set_ylabel(\"Brightness flux (arbitrary units)\")\n",
    "\n",
    "#plt.savefig(\"Example noiseless transit.png\")"
   ]
  },
  {
   "cell_type": "markdown",
   "metadata": {
    "heading_collapsed": true
   },
   "source": [
    "# Building database of the parameters for reference"
   ]
  },
  {
   "cell_type": "markdown",
   "metadata": {
    "hidden": true
   },
   "source": [
    "Now we can prepare to build a database of light curves of varying parameters. As we need to refer back to the properties of these curves after the user testing, we'll create a database that contains the variables (number of transits and signal-to-noise) "
   ]
  },
  {
   "cell_type": "code",
   "execution_count": 22,
   "metadata": {
    "ExecuteTime": {
     "end_time": "2021-07-06T17:12:28.589707Z",
     "start_time": "2021-07-06T17:12:28.582762Z"
    },
    "hidden": true
   },
   "outputs": [
    {
     "data": {
      "text/html": [
       "<div>\n",
       "<style scoped>\n",
       "    .dataframe tbody tr th:only-of-type {\n",
       "        vertical-align: middle;\n",
       "    }\n",
       "\n",
       "    .dataframe tbody tr th {\n",
       "        vertical-align: top;\n",
       "    }\n",
       "\n",
       "    .dataframe thead th {\n",
       "        text-align: right;\n",
       "    }\n",
       "</style>\n",
       "<table border=\"1\" class=\"dataframe\">\n",
       "  <thead>\n",
       "    <tr style=\"text-align: right;\">\n",
       "      <th></th>\n",
       "      <th>Number of transits</th>\n",
       "      <th>Value of SNR</th>\n",
       "      <th>Tag</th>\n",
       "    </tr>\n",
       "  </thead>\n",
       "  <tbody>\n",
       "  </tbody>\n",
       "</table>\n",
       "</div>"
      ],
      "text/plain": [
       "Empty DataFrame\n",
       "Columns: [Number of transits, Value of SNR, Tag]\n",
       "Index: []"
      ]
     },
     "metadata": {},
     "output_type": "display_data"
    }
   ],
   "source": [
    "if 'df' in locals(): # To make sure we start with an empty database\n",
    "    del df\n",
    "else:\n",
    "    df = pd.DataFrame({'Number of transits': [],\n",
    "            'Value of SNR': [],\n",
    "                     'Tag': []})\n",
    "    display(df)"
   ]
  },
  {
   "cell_type": "code",
   "execution_count": 7,
   "metadata": {
    "ExecuteTime": {
     "end_time": "2021-04-28T07:06:01.359149Z",
     "start_time": "2021-04-28T07:06:00.832382Z"
    },
    "hidden": true
   },
   "outputs": [
    {
     "data": {
      "text/plain": [
       "<pyo.lib.server.Server at 0x19e4b38a070>"
      ]
     },
     "execution_count": 7,
     "metadata": {},
     "output_type": "execute_result"
    }
   ],
   "source": [
    "#s = Server(sr=44100, nchnls=2, buffersize=512, duplex=1).boot()\n",
    "#s.start()"
   ]
  },
  {
   "cell_type": "markdown",
   "metadata": {
    "heading_collapsed": true
   },
   "source": [
    "# Light curve generator"
   ]
  },
  {
   "cell_type": "markdown",
   "metadata": {
    "hidden": true
   },
   "source": [
    "## Curves with 1 and 2 transits"
   ]
  },
  {
   "cell_type": "markdown",
   "metadata": {
    "hidden": true
   },
   "source": [
    "So we can tell exactly what the generator is doing (just an iterative loop that creates curves for the two values in transit_n, 1 and 2, and the standard deviation values of noise) we'll also create a noiseless version of the curve for reference.\n",
    "\n",
    "The actual code here is relatively simple - the important part is that k represents a randomized tag, that is assigned to each curve. This is so the curves are 'anonymous' to users, i.e. their SNR and number of transits are not in the filename, hence why having the database to refer back to each curves' properties is so essential."
   ]
  },
  {
   "cell_type": "code",
   "execution_count": 24,
   "metadata": {
    "ExecuteTime": {
     "end_time": "2021-07-06T17:16:24.694554Z",
     "start_time": "2021-07-06T17:16:13.484185Z"
    },
    "hidden": true
   },
   "outputs": [
    {
     "name": "stderr",
     "output_type": "stream",
     "text": [
      "WARNING: InputWarning: Given center pitch is outside the pitch range, defaulting to the mean. [astronify.utils.pitch_mapping]\n",
      "WARNING: InputWarning: Given center pitch is outside the pitch range, defaulting to the mean. [astronify.utils.pitch_mapping]\n",
      "WARNING: InputWarning: Given center pitch is outside the pitch range, defaulting to the mean. [astronify.utils.pitch_mapping]\n",
      "WARNING: InputWarning: Given center pitch is outside the pitch range, defaulting to the mean. [astronify.utils.pitch_mapping]\n",
      "WARNING: InputWarning: Given center pitch is outside the pitch range, defaulting to the mean. [astronify.utils.pitch_mapping]\n",
      "WARNING: InputWarning: Given center pitch is outside the pitch range, defaulting to the mean. [astronify.utils.pitch_mapping]\n",
      "WARNING: InputWarning: Given center pitch is outside the pitch range, defaulting to the mean. [astronify.utils.pitch_mapping]\n",
      "WARNING: InputWarning: Given center pitch is outside the pitch range, defaulting to the mean. [astronify.utils.pitch_mapping]\n",
      "WARNING: InputWarning: Given center pitch is outside the pitch range, defaulting to the mean. [astronify.utils.pitch_mapping]\n",
      "WARNING: InputWarning: Given center pitch is outside the pitch range, defaulting to the mean. [astronify.utils.pitch_mapping]\n",
      "WARNING: InputWarning: Given center pitch is outside the pitch range, defaulting to the mean. [astronify.utils.pitch_mapping]\n",
      "WARNING: InputWarning: Given center pitch is outside the pitch range, defaulting to the mean. [astronify.utils.pitch_mapping]\n",
      "WARNING: InputWarning: Given center pitch is outside the pitch range, defaulting to the mean. [astronify.utils.pitch_mapping]\n",
      "WARNING: InputWarning: Given center pitch is outside the pitch range, defaulting to the mean. [astronify.utils.pitch_mapping]\n",
      "WARNING: InputWarning: Given center pitch is outside the pitch range, defaulting to the mean. [astronify.utils.pitch_mapping]\n",
      "WARNING: InputWarning: Given center pitch is outside the pitch range, defaulting to the mean. [astronify.utils.pitch_mapping]\n",
      "WARNING: InputWarning: Given center pitch is outside the pitch range, defaulting to the mean. [astronify.utils.pitch_mapping]\n",
      "WARNING: InputWarning: Given center pitch is outside the pitch range, defaulting to the mean. [astronify.utils.pitch_mapping]\n",
      "WARNING: InputWarning: Given center pitch is outside the pitch range, defaulting to the mean. [astronify.utils.pitch_mapping]\n",
      "WARNING: InputWarning: Given center pitch is outside the pitch range, defaulting to the mean. [astronify.utils.pitch_mapping]\n",
      "WARNING: InputWarning: Given center pitch is outside the pitch range, defaulting to the mean. [astronify.utils.pitch_mapping]\n",
      "WARNING: InputWarning: Given center pitch is outside the pitch range, defaulting to the mean. [astronify.utils.pitch_mapping]\n",
      "WARNING: InputWarning: Given center pitch is outside the pitch range, defaulting to the mean. [astronify.utils.pitch_mapping]\n",
      "WARNING: InputWarning: Given center pitch is outside the pitch range, defaulting to the mean. [astronify.utils.pitch_mapping]\n"
     ]
    }
   ],
   "source": [
    "for j in transit_n: ## Generating 12 transits for n = 1, n = 2\n",
    "                   \n",
    "    for i in noise_sd:\n",
    "\n",
    "        t_start = int(transit_length/(2.*j)-(transit_length*width_param)/2. + \n",
    "                      random.randint(-1*(transit_length/j)/4, (transit_length/j)/4)) \n",
    "        \n",
    "        k = int(random.uniform(0,100)) # k is generated, initally for no curve in the database.\n",
    "        \n",
    "        # architecture\n",
    "        \n",
    "        # if len(df) != 0:\n",
    "        #      check k is not in any of the cells in df\n",
    "        #      if it is, regenerate k and try again until it's safe\n",
    "        \n",
    "        # elif \n",
    "        #        continue\n",
    "        \n",
    "        for i in range(0,len(df['Tag'])):\n",
    "            print(df.iloc[i]['Tag'])\n",
    "        #if k in df.iloc['Tag'][i]\n",
    "        \n",
    "        lc_data_transit = simulator.simulated_lc(\"transit\", \n",
    "                                         visualize = False, \n",
    "                                         transit_depth = 25,\n",
    "                                         transit_period = transit_length/j, \n",
    "                                         transit_width = int(transit_length*width_param),\n",
    "                                         transit_start = t_start,\n",
    "                                         lc_noise = i, \n",
    "                                         lc_length = transit_length)\n",
    "        \n",
    "        lc_data_transit0 = simulator.simulated_lc(\"transit\", \n",
    "                                         visualize = False, \n",
    "                                         transit_depth = 25,\n",
    "                                         transit_period = transit_length/j, \n",
    "                                         transit_width = int(transit_length*width_param),\n",
    "                                         transit_start = t_start,\n",
    "                                         lc_noise = 0, \n",
    "                                         lc_length = transit_length)\n",
    "\n",
    "\n",
    "        lc_sound_transit = series.SoniSeries(lc_data_transit)\n",
    "        lc_sound_transit.pitch_mapper.pitch_map_args[\"stretch\"] = 'linear'\n",
    "        lc_sound_transit.pitch_mapper.pitch_map_args[\"pitch_range\"] = [440,880]\n",
    "        lc_sound_transit_spacing = 0.01\n",
    "        lc_sound_transit.note_duration = 0.2\n",
    "        lc_sound_transit.sonify()\n",
    "        \n",
    "        lc_sound_transit0 = series.SoniSeries(lc_data_transit0)\n",
    "        lc_sound_transit0.pitch_mapper.pitch_map_args[\"stretch\"] = 'linear'\n",
    "        lc_sound_transit0.pitch_mapper.pitch_map_args[\"pitch_range\"] = [440,880]\n",
    "        lc_sound_transit0_spacing = 0.01\n",
    "        lc_sound_transit0.note_duration = 0.2\n",
    "        lc_sound_transit0.sonify()\n",
    "        #----------------------------------------------------------------------------------------------------\n",
    "        f, ax = plt.subplots(figsize=(12, 6))\n",
    "        ax.plot(lc_data_transit['time'], lc_data_transit['flux'],'-o', linewidth=0)\n",
    "        ax.set_xlabel(\"Time (JD)\")\n",
    "        ## ax.set_ylim(-500,500)\n",
    "        ## ax.autoscale(enable=True, axis='both', tight=False)\n",
    "        ax.set_ylabel(\"Flux\")\n",
    "        \n",
    "        df=df.append({'Number of transits':int(j),\n",
    "                      'Value of SNR':math.ceil((25*np.sqrt(transit_length*width_param))/(i+0.01)),\n",
    "                      'Tag':k},\n",
    "                      ignore_index=True)\n",
    "\n",
    "        #plt.savefig(\"plot\" + str(k) + \".jpg\")\n",
    "\n",
    "        plt.close()\n",
    "\n",
    "        #lc_sound_transit.write(\"sonification\" + str(k) + \".wav\")\n",
    "        #----------------------------------------------------------------------------------------\n",
    "        f, ax = plt.subplots(figsize=(12, 6))\n",
    "        ax.plot(lc_data_transit0['time'], lc_data_transit0['flux'],'-o', linewidth=0)\n",
    "        ax.set_xlabel(\"Time (JD)\")\n",
    "        ## ax.set_ylim(-500,500)\n",
    "        ## ax.autoscale(enable=True, axis='both', tight=False)\n",
    "        ax.set_ylabel(\"Flux\")\n",
    "        \n",
    "        df=df.append({'Number of transits':int(j),\n",
    "                      'Value of SNR':math.ceil((25*np.sqrt(transit_length*width_param))/(i+0.01)),\n",
    "                      'Tag':k},\n",
    "                      ignore_index=True)\n",
    "\n",
    "        #plt.savefig(\"plot\" + str(k) + \"0.jpg\")\n",
    "\n",
    "        plt.close()\n",
    "\n",
    "        #lc_sound_transit.write(\"sonification\" + str(k) + \"0.wav\")\n",
    "\n",
    "\n",
    "print(\"Generation of non-zero transit data finished\")"
   ]
  },
  {
   "cell_type": "markdown",
   "metadata": {
    "hidden": true
   },
   "source": [
    "Final result of our 'tag' database which is used for referring back to the curves properties."
   ]
  },
  {
   "cell_type": "code",
   "execution_count": 10,
   "metadata": {
    "ExecuteTime": {
     "end_time": "2021-04-28T07:08:07.076110Z",
     "start_time": "2021-04-28T07:08:07.064702Z"
    },
    "hidden": true
   },
   "outputs": [
    {
     "data": {
      "text/html": [
       "<div>\n",
       "<style scoped>\n",
       "    .dataframe tbody tr th:only-of-type {\n",
       "        vertical-align: middle;\n",
       "    }\n",
       "\n",
       "    .dataframe tbody tr th {\n",
       "        vertical-align: top;\n",
       "    }\n",
       "\n",
       "    .dataframe thead th {\n",
       "        text-align: right;\n",
       "    }\n",
       "</style>\n",
       "<table border=\"1\" class=\"dataframe\">\n",
       "  <thead>\n",
       "    <tr style=\"text-align: right;\">\n",
       "      <th></th>\n",
       "      <th>Number of transits</th>\n",
       "      <th>Value of SNR</th>\n",
       "      <th>Tag</th>\n",
       "    </tr>\n",
       "  </thead>\n",
       "  <tbody>\n",
       "    <tr>\n",
       "      <th>0</th>\n",
       "      <td>1.0</td>\n",
       "      <td>3.0</td>\n",
       "      <td>95.0</td>\n",
       "    </tr>\n",
       "    <tr>\n",
       "      <th>1</th>\n",
       "      <td>1.0</td>\n",
       "      <td>3.0</td>\n",
       "      <td>40.0</td>\n",
       "    </tr>\n",
       "    <tr>\n",
       "      <th>2</th>\n",
       "      <td>1.0</td>\n",
       "      <td>3.0</td>\n",
       "      <td>40.0</td>\n",
       "    </tr>\n",
       "    <tr>\n",
       "      <th>3</th>\n",
       "      <td>1.0</td>\n",
       "      <td>5.0</td>\n",
       "      <td>63.0</td>\n",
       "    </tr>\n",
       "    <tr>\n",
       "      <th>4</th>\n",
       "      <td>1.0</td>\n",
       "      <td>5.0</td>\n",
       "      <td>63.0</td>\n",
       "    </tr>\n",
       "    <tr>\n",
       "      <th>5</th>\n",
       "      <td>1.0</td>\n",
       "      <td>7.0</td>\n",
       "      <td>68.0</td>\n",
       "    </tr>\n",
       "    <tr>\n",
       "      <th>6</th>\n",
       "      <td>1.0</td>\n",
       "      <td>7.0</td>\n",
       "      <td>68.0</td>\n",
       "    </tr>\n",
       "    <tr>\n",
       "      <th>7</th>\n",
       "      <td>1.0</td>\n",
       "      <td>10.0</td>\n",
       "      <td>87.0</td>\n",
       "    </tr>\n",
       "    <tr>\n",
       "      <th>8</th>\n",
       "      <td>1.0</td>\n",
       "      <td>10.0</td>\n",
       "      <td>87.0</td>\n",
       "    </tr>\n",
       "    <tr>\n",
       "      <th>9</th>\n",
       "      <td>1.0</td>\n",
       "      <td>30.0</td>\n",
       "      <td>11.0</td>\n",
       "    </tr>\n",
       "    <tr>\n",
       "      <th>10</th>\n",
       "      <td>1.0</td>\n",
       "      <td>30.0</td>\n",
       "      <td>11.0</td>\n",
       "    </tr>\n",
       "    <tr>\n",
       "      <th>11</th>\n",
       "      <td>1.0</td>\n",
       "      <td>100.0</td>\n",
       "      <td>32.0</td>\n",
       "    </tr>\n",
       "    <tr>\n",
       "      <th>12</th>\n",
       "      <td>1.0</td>\n",
       "      <td>100.0</td>\n",
       "      <td>32.0</td>\n",
       "    </tr>\n",
       "    <tr>\n",
       "      <th>13</th>\n",
       "      <td>2.0</td>\n",
       "      <td>3.0</td>\n",
       "      <td>29.0</td>\n",
       "    </tr>\n",
       "    <tr>\n",
       "      <th>14</th>\n",
       "      <td>2.0</td>\n",
       "      <td>3.0</td>\n",
       "      <td>29.0</td>\n",
       "    </tr>\n",
       "    <tr>\n",
       "      <th>15</th>\n",
       "      <td>2.0</td>\n",
       "      <td>5.0</td>\n",
       "      <td>23.0</td>\n",
       "    </tr>\n",
       "    <tr>\n",
       "      <th>16</th>\n",
       "      <td>2.0</td>\n",
       "      <td>5.0</td>\n",
       "      <td>23.0</td>\n",
       "    </tr>\n",
       "    <tr>\n",
       "      <th>17</th>\n",
       "      <td>2.0</td>\n",
       "      <td>7.0</td>\n",
       "      <td>23.0</td>\n",
       "    </tr>\n",
       "    <tr>\n",
       "      <th>18</th>\n",
       "      <td>2.0</td>\n",
       "      <td>7.0</td>\n",
       "      <td>23.0</td>\n",
       "    </tr>\n",
       "    <tr>\n",
       "      <th>19</th>\n",
       "      <td>2.0</td>\n",
       "      <td>10.0</td>\n",
       "      <td>67.0</td>\n",
       "    </tr>\n",
       "    <tr>\n",
       "      <th>20</th>\n",
       "      <td>2.0</td>\n",
       "      <td>10.0</td>\n",
       "      <td>67.0</td>\n",
       "    </tr>\n",
       "    <tr>\n",
       "      <th>21</th>\n",
       "      <td>2.0</td>\n",
       "      <td>30.0</td>\n",
       "      <td>11.0</td>\n",
       "    </tr>\n",
       "    <tr>\n",
       "      <th>22</th>\n",
       "      <td>2.0</td>\n",
       "      <td>30.0</td>\n",
       "      <td>11.0</td>\n",
       "    </tr>\n",
       "    <tr>\n",
       "      <th>23</th>\n",
       "      <td>2.0</td>\n",
       "      <td>100.0</td>\n",
       "      <td>69.0</td>\n",
       "    </tr>\n",
       "    <tr>\n",
       "      <th>24</th>\n",
       "      <td>2.0</td>\n",
       "      <td>100.0</td>\n",
       "      <td>69.0</td>\n",
       "    </tr>\n",
       "  </tbody>\n",
       "</table>\n",
       "</div>"
      ],
      "text/plain": [
       "    Number of transits  Value of SNR   Tag\n",
       "0                  1.0           3.0  95.0\n",
       "1                  1.0           3.0  40.0\n",
       "2                  1.0           3.0  40.0\n",
       "3                  1.0           5.0  63.0\n",
       "4                  1.0           5.0  63.0\n",
       "5                  1.0           7.0  68.0\n",
       "6                  1.0           7.0  68.0\n",
       "7                  1.0          10.0  87.0\n",
       "8                  1.0          10.0  87.0\n",
       "9                  1.0          30.0  11.0\n",
       "10                 1.0          30.0  11.0\n",
       "11                 1.0         100.0  32.0\n",
       "12                 1.0         100.0  32.0\n",
       "13                 2.0           3.0  29.0\n",
       "14                 2.0           3.0  29.0\n",
       "15                 2.0           5.0  23.0\n",
       "16                 2.0           5.0  23.0\n",
       "17                 2.0           7.0  23.0\n",
       "18                 2.0           7.0  23.0\n",
       "19                 2.0          10.0  67.0\n",
       "20                 2.0          10.0  67.0\n",
       "21                 2.0          30.0  11.0\n",
       "22                 2.0          30.0  11.0\n",
       "23                 2.0         100.0  69.0\n",
       "24                 2.0         100.0  69.0"
      ]
     },
     "metadata": {},
     "output_type": "display_data"
    }
   ],
   "source": [
    "display(df)"
   ]
  },
  {
   "cell_type": "markdown",
   "metadata": {
    "hidden": true
   },
   "source": [
    "## Curves of zero transits"
   ]
  },
  {
   "cell_type": "code",
   "execution_count": 25,
   "metadata": {
    "hidden": true
   },
   "outputs": [
    {
     "name": "stderr",
     "output_type": "stream",
     "text": [
      "WARNING: InputWarning: Given center pitch is outside the pitch range, defaulting to the mean. [astronify.utils.pitch_mapping]\n",
      "WARNING: InputWarning: Given center pitch is outside the pitch range, defaulting to the mean. [astronify.utils.pitch_mapping]\n",
      "WARNING: InputWarning: Given center pitch is outside the pitch range, defaulting to the mean. [astronify.utils.pitch_mapping]\n",
      "WARNING: InputWarning: Given center pitch is outside the pitch range, defaulting to the mean. [astronify.utils.pitch_mapping]\n",
      "WARNING: InputWarning: Given center pitch is outside the pitch range, defaulting to the mean. [astronify.utils.pitch_mapping]\n",
      "WARNING: InputWarning: Given center pitch is outside the pitch range, defaulting to the mean. [astronify.utils.pitch_mapping]\n"
     ]
    }
   ],
   "source": [
    "for i in noise_sd: ## Generating 6 transits for zero n (working code)\n",
    "\n",
    "        j = int(random.uniform(100,200))   \n",
    "    \n",
    "        lc_data_transit = simulator.simulated_lc(\"flat\", \n",
    "                                         visualize = False, \n",
    "                                         transit_depth = 25,\n",
    "                                         transit_period = 100, \n",
    "                                         transit_width = int(transit_length*width_param),\n",
    "                                         lc_noise = i, \n",
    "                                         lc_length = transit_length)\n",
    "\n",
    "\n",
    "        lc_sound_transit = series.SoniSeries(lc_data_transit)\n",
    "        lc_sound_transit.pitch_mapper.pitch_map_args[\"stretch\"] = 'linear'\n",
    "        lc_sound_transit.pitch_mapper.pitch_map_args[\"pitch_range\"] = [440,880]\n",
    "        lc_sound_transit_spacing = 0.01\n",
    "        lc_sound_transit.note_duration = 0.2\n",
    "        lc_sound_transit.sonify()\n",
    "        #----------------------------------------------------------------------------------------------------\n",
    "        f, ax = plt.subplots(figsize=(12, 6))\n",
    "        ax.plot(lc_data_transit['time'], lc_data_transit['flux'],'-o', linewidth=0)\n",
    "        ax.set_xlabel(\"Time (JD)\")\n",
    "        # ax.set_ylim()\n",
    "        ax.set_ylabel(\"Flux\")\n",
    "\n",
    "        df=df.append({'Number of transits':0,\n",
    "                      'Value of SNR':math.ceil((25*np.sqrt(transit_length*width_param))/i),\n",
    "                      'Tag':j},\n",
    "                      ignore_index=True)\n",
    "\n",
    "        plt.savefig(\"plot\" + str(j) + \".jpg\")\n",
    "\n",
    "        plt.close()\n",
    "\n",
    "        lc_sound_transit.write(\"sonification\" + str(j) + \".wav\")\n",
    "        \n",
    "print(\"Generation of zero transit data finished\")\n",
    "\n",
    "df\n",
    "\n",
    "print(\"Confirming no overlap in random tagging, number of curves = \",len(df))"
   ]
  },
  {
   "cell_type": "markdown",
   "metadata": {
    "hidden": true
   },
   "source": [
    "## Writing the dataframe to master spreadsheet"
   ]
  },
  {
   "cell_type": "markdown",
   "metadata": {
    "hidden": true
   },
   "source": [
    "This is commented so that it doesn't overwrite my original data."
   ]
  },
  {
   "cell_type": "code",
   "execution_count": 26,
   "metadata": {
    "hidden": true
   },
   "outputs": [],
   "source": [
    "print(df)\n",
    "#df.to_excel(r'C:\\Users\\jackt\\OneDrive - Newcastle University\\Project\\Tag spreadsheet.xlsx', \n",
    "#            index = False)"
   ]
  },
  {
   "cell_type": "markdown",
   "metadata": {
    "hidden": true
   },
   "source": [
    "## Writing ffmpeg files"
   ]
  },
  {
   "cell_type": "markdown",
   "metadata": {
    "hidden": true
   },
   "source": [
    "Scriptable??"
   ]
  },
  {
   "cell_type": "code",
   "execution_count": 35,
   "metadata": {
    "ExecuteTime": {
     "end_time": "2021-04-27T12:26:27.928769Z",
     "start_time": "2021-04-27T12:26:26.014197Z"
    },
    "hidden": true
   },
   "outputs": [
    {
     "name": "stderr",
     "output_type": "stream",
     "text": [
      "ffmpeg version 2021-02-28-git-85ab9deb98-full_build-www.gyan.dev Copyright (c) 2000-2021 the FFmpeg developers\n",
      "  built with gcc 10.2.0 (Rev6, Built by MSYS2 project)\n",
      "  configuration: --enable-gpl --enable-version3 --enable-static --disable-w32threads --disable-autodetect --enable-fontconfig --enable-iconv --enable-gnutls --enable-libxml2 --enable-gmp --enable-lzma --enable-libsnappy --enable-zlib --enable-libsrt --enable-libssh --enable-libzmq --enable-avisynth --enable-libbluray --enable-libcaca --enable-sdl2 --enable-libdav1d --enable-libzvbi --enable-librav1e --enable-libsvtav1 --enable-libwebp --enable-libx264 --enable-libx265 --enable-libxvid --enable-libaom --enable-libopenjpeg --enable-libvpx --enable-libass --enable-frei0r --enable-libfreetype --enable-libfribidi --enable-libvidstab --enable-libvmaf --enable-libzimg --enable-amf --enable-cuda-llvm --enable-cuvid --enable-ffnvcodec --enable-nvdec --enable-nvenc --enable-d3d11va --enable-dxva2 --enable-libmfx --enable-libglslang --enable-vulkan --enable-opencl --enable-libcdio --enable-libgme --enable-libmodplug --enable-libopenmpt --enable-libopencore-amrwb --enable-libmp3lame --enable-libshine --enable-libtheora --enable-libtwolame --enable-libvo-amrwbenc --enable-libilbc --enable-libgsm --enable-libopencore-amrnb --enable-libopus --enable-libspeex --enable-libvorbis --enable-ladspa --enable-libbs2b --enable-libflite --enable-libmysofa --enable-librubberband --enable-libsoxr --enable-chromaprint\n",
      "  libavutil      56. 66.100 / 56. 66.100\n",
      "  libavcodec     58.126.100 / 58.126.100\n",
      "  libavformat    58. 68.100 / 58. 68.100\n",
      "  libavdevice    58. 12.100 / 58. 12.100\n",
      "  libavfilter     7.107.100 /  7.107.100\n",
      "  libswscale      5.  8.100 /  5.  8.100\n",
      "  libswresample   3.  8.100 /  3.  8.100\n",
      "  libpostproc    55.  8.100 / 55.  8.100\n",
      "Input #0, image2, from 'C:\\ffmpeg\\plots\\ex_noisy.jpg':\n",
      "  Duration: 00:00:00.04, start: 0.000000, bitrate: 14160 kb/s\n",
      "  Stream #0:0: Video: mjpeg (Baseline), yuvj420p(pc, bt470bg/unknown/unknown), 864x432 [SAR 72:72 DAR 2:1], 25 fps, 25 tbr, 25 tbn, 25 tbc\n",
      "Guessed Channel Layout for Input Stream #1.0 : stereo\n",
      "Input #1, wav, from 'C:\\ffmpeg\\sonifications\\ex_noisy.wav':\n",
      "  Duration: 00:00:10.19, bitrate: 1411 kb/s\n",
      "  Stream #1:0: Audio: pcm_s16le ([1][0][0][0] / 0x0001), 44100 Hz, stereo, s16, 1411 kb/s\n",
      "Stream mapping:\n",
      "  Stream #0:0 -> #0:0 (mjpeg (native) -> h264 (libx264))\n",
      "  Stream #1:0 -> #0:1 (pcm_s16le (native) -> aac (native))\n",
      "Press [q] to stop, [?] for help\n",
      "[swscaler @ 000001dd6b9767c0] deprecated pixel format used, make sure you did set range correctly\n",
      "[libx264 @ 000001dd6b063440] using SAR=1/1\n",
      "[libx264 @ 000001dd6b063440] using cpu capabilities: MMX2 SSE2Fast SSSE3 SSE4.2 AVX FMA3 BMI2 AVX2\n",
      "[libx264 @ 000001dd6b063440] profile High, level 3.0, 4:2:0, 8-bit\n",
      "[libx264 @ 000001dd6b063440] 264 - core 161 r3048 b86ae3c - H.264/MPEG-4 AVC codec - Copyleft 2003-2021 - http://www.videolan.org/x264.html - options: cabac=1 ref=3 deblock=1:-3:-3 analyse=0x3:0x113 me=hex subme=7 psy=1 psy_rd=2.00:0.70 mixed_ref=1 me_range=16 chroma_me=1 trellis=1 8x8dct=1 cqm=0 deadzone=21,11 fast_pskip=1 chroma_qp_offset=-4 threads=12 lookahead_threads=2 sliced_threads=0 nr=0 decimate=1 interlaced=0 bluray_compat=0 constrained_intra=0 bframes=3 b_pyramid=2 b_adapt=1 b_bias=0 direct=1 weightb=1 open_gop=0 weightp=2 keyint=250 keyint_min=25 scenecut=40 intra_refresh=0 rc_lookahead=40 rc=crf mbtree=1 crf=23.0 qcomp=0.60 qpmin=0 qpmax=69 qpstep=4 ip_ratio=1.40 aq=1:1.20\n",
      "Output #0, mp4, to 'C:\\ffmpeg\\combined\\out_noisy.mp4':\n",
      "  Metadata:\n",
      "    encoder         : Lavf58.68.100\n",
      "  Stream #0:0: Video: h264 (avc1 / 0x31637661), yuv420p(tv, bt470bg/unknown/unknown, progressive), 864x432 [SAR 1:1 DAR 2:1], q=2-31, 25 fps, 12800 tbn\n",
      "    Metadata:\n",
      "      encoder         : Lavc58.126.100 libx264\n",
      "    Side data:\n",
      "      cpb: bitrate max/min/avg: 0/0/0 buffer size: 0 vbv_delay: N/A\n",
      "  Stream #0:1: Audio: aac (LC) (mp4a / 0x6134706D), 44100 Hz, stereo, fltp, 192 kb/s\n",
      "    Metadata:\n",
      "      encoder         : Lavc58.126.100 aac\n",
      "frame=    1 fps=0.0 q=0.0 size=       0kB time=00:00:00.00 bitrate=N/A speed=   0x    \n",
      "frame=  112 fps=0.0 q=28.0 size=       0kB time=00:00:02.13 bitrate=   0.2kbits/s speed=4.19x    \n",
      "frame=  196 fps=194 q=28.0 size=       0kB time=00:00:05.48 bitrate=   0.1kbits/s speed=5.43x    \n",
      "frame=  278 fps=184 q=28.0 size=       0kB time=00:00:08.76 bitrate=   0.0kbits/s speed= 5.8x    \n",
      "frame=  313 fps=176 q=-1.0 Lsize=     215kB time=00:00:12.40 bitrate= 141.9kbits/s speed=6.96x    \n",
      "video:75kB audio:130kB subtitle:0kB other streams:0kB global headers:0kB muxing overhead: 5.127555%\n",
      "[libx264 @ 000001dd6b063440] frame I:2     Avg QP:12.13  size: 32758\n",
      "[libx264 @ 000001dd6b063440] frame P:79    Avg QP: 6.82  size:    36\n",
      "[libx264 @ 000001dd6b063440] frame B:232   Avg QP: 9.67  size:    32\n",
      "[libx264 @ 000001dd6b063440] consecutive B-frames:  1.0%  0.6%  0.0% 98.4%\n",
      "[libx264 @ 000001dd6b063440] mb I  I16..4: 61.0% 17.6% 21.3%\n",
      "[libx264 @ 000001dd6b063440] mb P  I16..4:  0.0%  0.0%  0.0%  P16..4:  0.0%  0.0%  0.0%  0.0%  0.0%    skip:100.0%\n",
      "[libx264 @ 000001dd6b063440] mb B  I16..4:  0.0%  0.0%  0.0%  B16..8:  0.3%  0.0%  0.0%  direct: 0.0%  skip:99.7%  L0:68.1% L1:31.9% BI: 0.0%\n",
      "[libx264 @ 000001dd6b063440] 8x8 transform intra:17.6% inter:60.5%\n",
      "[libx264 @ 000001dd6b063440] coded y,uvDC,uvAC intra: 15.9% 18.6% 17.8% inter: 0.0% 0.0% 0.0%\n",
      "[libx264 @ 000001dd6b063440] i16 v,h,dc,p: 82% 11%  7%  0%\n",
      "[libx264 @ 000001dd6b063440] i8 v,h,dc,ddl,ddr,vr,hd,vl,hu: 67%  6% 26%  0%  0%  0%  0%  0%  0%\n",
      "[libx264 @ 000001dd6b063440] i4 v,h,dc,ddl,ddr,vr,hd,vl,hu: 26% 18% 20%  6%  6%  6%  7%  5%  6%\n",
      "[libx264 @ 000001dd6b063440] i8c dc,h,v,p: 88%  4%  5%  3%\n",
      "[libx264 @ 000001dd6b063440] Weighted P-Frames: Y:0.0% UV:0.0%\n",
      "[libx264 @ 000001dd6b063440] ref P L0: 72.1% 22.1%  5.9%\n",
      "[libx264 @ 000001dd6b063440] ref B L0: 46.1% 53.9%\n",
      "[libx264 @ 000001dd6b063440] kb/s:48.36\n",
      "[aac @ 000001dd6b0a3940] Qavg: 65216.711\n"
     ]
    }
   ],
   "source": [
    "! C:\\ffmpeg\\bin\\ffmpeg -loop 1 -i \\\n",
    "  C:\\ffmpeg\\plots\\ex_noisy.jpg -i \\\n",
    "  C:\\ffmpeg\\sonifications\\ex_noisy.wav \\\n",
    "  -c:v libx264 -tune stillimage -c:a aac -b:a 192k -pix_fmt yuv420p -shortest \\\n",
    "  C:\\ffmpeg\\combined\\out_noisy.mp4"
   ]
  },
  {
   "cell_type": "code",
   "execution_count": null,
   "metadata": {
    "hidden": true
   },
   "outputs": [],
   "source": []
  }
 ],
 "metadata": {
  "kernelspec": {
   "display_name": "Python 3",
   "language": "python",
   "name": "python3"
  },
  "language_info": {
   "codemirror_mode": {
    "name": "ipython",
    "version": 3
   },
   "file_extension": ".py",
   "mimetype": "text/x-python",
   "name": "python",
   "nbconvert_exporter": "python",
   "pygments_lexer": "ipython3",
   "version": "3.8.5"
  },
  "toc": {
   "base_numbering": 1,
   "nav_menu": {},
   "number_sections": true,
   "sideBar": true,
   "skip_h1_title": false,
   "title_cell": "Table of Contents",
   "title_sidebar": "Contents",
   "toc_cell": false,
   "toc_position": {},
   "toc_section_display": true,
   "toc_window_display": false
  },
  "varInspector": {
   "cols": {
    "lenName": 16,
    "lenType": 16,
    "lenVar": 40
   },
   "kernels_config": {
    "python": {
     "delete_cmd_postfix": "",
     "delete_cmd_prefix": "del ",
     "library": "var_list.py",
     "varRefreshCmd": "print(var_dic_list())"
    },
    "r": {
     "delete_cmd_postfix": ") ",
     "delete_cmd_prefix": "rm(",
     "library": "var_list.r",
     "varRefreshCmd": "cat(var_dic_list()) "
    }
   },
   "types_to_exclude": [
    "module",
    "function",
    "builtin_function_or_method",
    "instance",
    "_Feature"
   ],
   "window_display": false
  }
 },
 "nbformat": 4,
 "nbformat_minor": 4
}
