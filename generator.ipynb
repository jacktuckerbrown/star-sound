{
 "cells": [
  {
   "cell_type": "markdown",
   "metadata": {
    "heading_collapsed": true
   },
   "source": [
    "# Preamble"
   ]
  },
  {
   "cell_type": "markdown",
   "metadata": {
    "hidden": true
   },
   "source": [
    "We'll start by formatting the notebook, and running some diagnostics for checking the systems sound output is working correctly. Then, I've imported the Python modules required."
   ]
  },
  {
   "cell_type": "code",
   "execution_count": 2,
   "metadata": {
    "ExecuteTime": {
     "end_time": "2021-07-07T10:25:20.993852Z",
     "start_time": "2021-07-07T10:25:20.979500Z"
    },
    "hidden": true
   },
   "outputs": [
    {
     "data": {
      "text/html": [
       "<style>.container { width:75% !important; }</style>"
      ],
      "text/plain": [
       "<IPython.core.display.HTML object>"
      ]
     },
     "metadata": {},
     "output_type": "display_data"
    }
   ],
   "source": [
    "from IPython.core.display import display, HTML\n",
    "display(HTML(\"<style>.container { width:75% !important; }</style>\"))"
   ]
  },
  {
   "cell_type": "code",
   "execution_count": 103,
   "metadata": {
    "ExecuteTime": {
     "end_time": "2021-07-07T13:30:21.064273Z",
     "start_time": "2021-07-07T13:30:21.056798Z"
    },
    "hidden": true
   },
   "outputs": [],
   "source": [
    "import matplotlib\n",
    "import librosa \n",
    "import matplotlib.pyplot as plt ## For plots and visual data\n",
    "import IPython.display as ipd ## For displaying audio widgets\n",
    "import lightkurve as lk ## For generation of light curves\n",
    "import matplotlib.pyplot as plt ## Standard visual data creation module\n",
    "import librosa.display\n",
    "import numpy as np\n",
    "import os\n",
    "import pandas as pd\n",
    "import sqlite3 ## Database creation\n",
    "import mysql.connector\n",
    "import jupyterthemes\n",
    "import math\n",
    "import matplotlib.animation as animation\n",
    "import random\n",
    "import ffmpeg\n",
    "import sys\n",
    "import datetime\n",
    "import os.path\n",
    "from os.path import abspath\n",
    "\n",
    "from astronify.series import SoniSeries ## For sonifying the data\n",
    "from lightkurve import search_targetpixelfile ## 2D pixel heatmaps etc.\n",
    "from astropy.io import fits\n",
    "from astropy.table import Table\n",
    "from astronify import simulator, series\n",
    "from celluloid import Camera\n",
    "from pyo import *\n",
    "from pathlib import Path\n",
    "matplotlib.rcParams.update({'font.size': 22})"
   ]
  },
  {
   "cell_type": "markdown",
   "metadata": {
    "heading_collapsed": true
   },
   "source": [
    "# Setting light curve parameters"
   ]
  },
  {
   "cell_type": "markdown",
   "metadata": {
    "hidden": true
   },
   "source": [
    "Here we'll set some parameters for the curves we want to produce. With six values of signal-to-noise, and three values for the number of transits (0, 1 and 2, note 0 transit curves are done separately), 18 curves will be generated. \n",
    "\n",
    "From the values of SNR we want to test at, we can obtain a value for the corresponding standard deviation of noise which is calculated depending on the transits width and depth. This is what astronify takes as input for it's noise parameter. We can also obtain a parameter for the distance between transits which I've called freq_param. This equates to 1000 for curves of one transit, and 500 for curves of two."
   ]
  },
  {
   "cell_type": "code",
   "execution_count": 60,
   "metadata": {
    "ExecuteTime": {
     "end_time": "2021-07-07T11:21:40.384770Z",
     "start_time": "2021-07-07T11:21:40.379315Z"
    },
    "hidden": true
   },
   "outputs": [],
   "source": [
    "snr = [3,5,7,10,30,100] # The signal to noise ratio we are testing for\n",
    "transit_length = 1000 # Affects length of sonification, we wanted to keep this at about 10 seconds and 1000 was appropriate\n",
    "t_depth = 25 # The depth of the transit as a percentage of the brightness flux\n",
    "width_param = 0.1 # Transit length as fraction of total\n",
    "transit_n = [1,2] # Number of transits we want in the data\n",
    "t_width = transit_length*width_param # In our case, 100\n",
    "\n",
    "noise_sd = [] \n",
    "for x in snr:\n",
    "    noise_sd.append(np.sqrt(t_width)*t_depth/x) ## The actual noise sigma values for astronify\n",
    "    \n",
    "freq_param = []\n",
    "for x in transit_n:\n",
    "    freq_param.append(int(transit_length/x)) # This is why zero-transit data is done separately"
   ]
  },
  {
   "cell_type": "code",
   "execution_count": 61,
   "metadata": {
    "ExecuteTime": {
     "end_time": "2021-07-07T11:22:03.404058Z",
     "start_time": "2021-07-07T11:22:03.400128Z"
    },
    "hidden": true
   },
   "outputs": [
    {
     "data": {
      "text/plain": [
       "100.0"
      ]
     },
     "execution_count": 61,
     "metadata": {},
     "output_type": "execute_result"
    }
   ],
   "source": [
    "t_width"
   ]
  },
  {
   "cell_type": "code",
   "execution_count": 59,
   "metadata": {
    "ExecuteTime": {
     "end_time": "2021-07-07T11:20:49.672786Z",
     "start_time": "2021-07-07T11:20:49.669281Z"
    },
    "hidden": true
   },
   "outputs": [
    {
     "data": {
      "text/plain": [
       "('Standard deviations of noise to put in are:',\n",
       " [83.33333333333333, 50.0, 35.714285714285715, 25.0, 8.333333333333334, 2.5])"
      ]
     },
     "execution_count": 59,
     "metadata": {},
     "output_type": "execute_result"
    }
   ],
   "source": [
    "\"Standard deviations of noise to put in are:\" ,noise_sd"
   ]
  },
  {
   "cell_type": "code",
   "execution_count": 6,
   "metadata": {
    "ExecuteTime": {
     "end_time": "2021-07-07T10:25:52.356442Z",
     "start_time": "2021-07-07T10:25:52.352500Z"
    },
    "hidden": true
   },
   "outputs": [
    {
     "data": {
      "text/plain": [
       "('Transit periods:', [1000, 500])"
      ]
     },
     "execution_count": 6,
     "metadata": {},
     "output_type": "execute_result"
    }
   ],
   "source": [
    "\"Transit periods:\", freq_param"
   ]
  },
  {
   "cell_type": "markdown",
   "metadata": {},
   "source": [
    "# Generating an example transit with noise and no noise"
   ]
  },
  {
   "cell_type": "markdown",
   "metadata": {},
   "source": [
    "Now we're ready to start using astronify to generate transit light curves. To get a sense of how our curves look, we'll start with a curve of one transit, using the formula t_start to semi-randomize the position of the transit (this is to avoid it being directly at the start mainly). Astronify has also been used in the noisy transit to sonify and play the data with a given set of parameters. We were informed on these by the developers. \n",
    "\n",
    "You will notice by running this next cell multiple times that the start of the transit will be at a different place each time (note you can also change n_transit and experiment with curves of a different number of transits). Due to the randomness of the transit starts, the generated dataset won't be exactly the same as the one with which I carried out the user testing.\n",
    "\n",
    "Saving to the system is currently commented out."
   ]
  },
  {
   "cell_type": "code",
   "execution_count": 12,
   "metadata": {
    "ExecuteTime": {
     "end_time": "2021-07-07T10:37:27.367206Z",
     "start_time": "2021-07-07T10:37:26.469377Z"
    },
    "code_folding": [
     4,
     24
    ]
   },
   "outputs": [
    {
     "name": "stderr",
     "output_type": "stream",
     "text": [
      "WARNING: InputWarning: Given center pitch is outside the pitch range, defaulting to the mean. [astronify.utils.pitch_mapping]\n"
     ]
    },
    {
     "data": {
      "text/plain": [
       "Text(0, 0.5, 'Brightness flux (arbitrary units)')"
      ]
     },
     "execution_count": 12,
     "metadata": {},
     "output_type": "execute_result"
    },
    {
     "data": {
      "image/png": "[encoded data removed]",
      "text/plain": [
       "<Figure size 1152x720 with 1 Axes>"
      ]
     },
     "metadata": {
      "needs_background": "light"
     },
     "output_type": "display_data"
    },
    {
     "data": {
      "image/png": "[encoded data removed]",
      "text/plain": [
       "<Figure size 1152x720 with 1 Axes>"
      ]
     },
     "metadata": {
      "needs_background": "light"
     },
     "output_type": "display_data"
    }
   ],
   "source": [
    "n_transit = 1\n",
    "t_period = int(transit_length/n_transit)\n",
    "t_start = int(transit_length/(2.*n_transit)-t_width/2. + random.randint(-1*t_period/4, t_period/4))\n",
    "\n",
    "lc_data_noise = simulator.simulated_lc(\"transit\", visualize=False, \n",
    "                                       transit_depth=int(t_depth), transit_period=t_period,\n",
    "                                       transit_width=int(t_width), lc_noise=2.5, \n",
    "                                       lc_length=int(transit_length),transit_start=t_start)\n",
    "\n",
    "f, ax = plt.subplots(figsize=(16, 10))\n",
    "ax.plot(lc_data_noise['time'], lc_data_noise['flux'],'-o', linewidth=0)\n",
    "ax.set_xlabel(\"Time (JD)\")\n",
    "ax.set_ylabel(\"Brightness flux (arbitrary units)\")\n",
    "\n",
    "lc_sound_transit = series.SoniSeries(lc_data_noise)\n",
    "lc_sound_transit.pitch_mapper.pitch_map_args[\"stretch\"] = 'linear'\n",
    "lc_sound_transit.pitch_mapper.pitch_map_args[\"pitch_range\"] = [440,880]\n",
    "lc_sound_transit_spacing = 0.01\n",
    "lc_sound_transit.note_duration = 0.2\n",
    "lc_sound_transit.sonify()\n",
    "\n",
    "#lc_sound_transit.play()\n",
    "#plt.savefig(\"Example noisy transit.png\")\n",
    "\n",
    "lc_data_noiseless = simulator.simulated_lc(\"transit\", visualize=False, \n",
    "                                           transit_depth=int(t_depth), transit_period=t_period,\n",
    "                                           transit_width=int(t_width), lc_noise=0, \n",
    "                                           lc_length=int(transit_length),transit_start=t_start)\n",
    "\n",
    "f, ax = plt.subplots(figsize=(16, 10))\n",
    "ax.plot(lc_data_noiseless['time'], lc_data_noiseless['flux'],'-o', linewidth=0)\n",
    "ax.set_xlabel(\"Time (JD)\")\n",
    "ax.set_ylabel(\"Brightness flux (arbitrary units)\")\n",
    "\n",
    "#plt.savefig(\"Example noiseless transit.png\")"
   ]
  },
  {
   "cell_type": "markdown",
   "metadata": {},
   "source": [
    "# Light curve generator"
   ]
  },
  {
   "cell_type": "markdown",
   "metadata": {},
   "source": [
    "## Building database of the parameters for reference"
   ]
  },
  {
   "cell_type": "markdown",
   "metadata": {},
   "source": [
    "Now we can prepare to build a database of light curves of varying parameters. As we need to refer back to the properties of these curves after the user testing, we'll create a database that contains the variables (number of transits and signal-to-noise). Note if you run the cells in section 5 which actually generate light curves multiple times, you'll need to go back and rerun this cell to start with a fresh database."
   ]
  },
  {
   "cell_type": "code",
   "execution_count": 122,
   "metadata": {
    "ExecuteTime": {
     "end_time": "2021-07-07T13:53:39.848996Z",
     "start_time": "2021-07-07T13:53:39.841100Z"
    }
   },
   "outputs": [
    {
     "data": {
      "text/html": [
       "<div>\n",
       "<style scoped>\n",
       "    .dataframe tbody tr th:only-of-type {\n",
       "        vertical-align: middle;\n",
       "    }\n",
       "\n",
       "    .dataframe tbody tr th {\n",
       "        vertical-align: top;\n",
       "    }\n",
       "\n",
       "    .dataframe thead th {\n",
       "        text-align: right;\n",
       "    }\n",
       "</style>\n",
       "<table border=\"1\" class=\"dataframe\">\n",
       "  <thead>\n",
       "    <tr style=\"text-align: right;\">\n",
       "      <th></th>\n",
       "      <th>Number of transits</th>\n",
       "      <th>Value of SNR</th>\n",
       "      <th>Tag</th>\n",
       "    </tr>\n",
       "  </thead>\n",
       "  <tbody>\n",
       "  </tbody>\n",
       "</table>\n",
       "</div>"
      ],
      "text/plain": [
       "Empty DataFrame\n",
       "Columns: [Number of transits, Value of SNR, Tag]\n",
       "Index: []"
      ]
     },
     "metadata": {},
     "output_type": "display_data"
    }
   ],
   "source": [
    "if 'df' in locals(): # To make sure we start with an empty database\n",
    "    del df\n",
    "    \n",
    "df = pd.DataFrame({'Number of transits': [],\n",
    "                   'Value of SNR': [],\n",
    "                   'Tag': []})\n",
    "display(df)"
   ]
  },
  {
   "cell_type": "markdown",
   "metadata": {},
   "source": [
    "## Curves with 1 and 2 transits"
   ]
  },
  {
   "cell_type": "markdown",
   "metadata": {},
   "source": [
    "So we can tell exactly what the generator is doing (just an iterative loop that creates 12 curves for the two values in transit_n, 1 and 2, and the 6 standard deviation values of noise) we'll also create a noiseless version of the curve for reference.\n",
    "\n",
    "The actual code here is relatively simple - the important part is that k represents a unique, randomized tag, that is assigned to each curve. This is so the curves are 'anonymous' to users, i.e. their SNR and number of transits are not in the filename, hence why having the database to refer back to each curves' properties is so essential.\n",
    "\n",
    "Note the relevant code for saving the sonifications and plots to the system is currently commented out."
   ]
  },
  {
   "cell_type": "code",
   "execution_count": 123,
   "metadata": {
    "ExecuteTime": {
     "end_time": "2021-07-07T13:53:59.316961Z",
     "start_time": "2021-07-07T13:53:42.864258Z"
    },
    "code_folding": [
     19
    ]
   },
   "outputs": [
    {
     "name": "stderr",
     "output_type": "stream",
     "text": [
      "WARNING: InputWarning: Given center pitch is outside the pitch range, defaulting to the mean. [astronify.utils.pitch_mapping]\n",
      "WARNING: InputWarning: Given center pitch is outside the pitch range, defaulting to the mean. [astronify.utils.pitch_mapping]\n",
      "WARNING: InputWarning: Given center pitch is outside the pitch range, defaulting to the mean. [astronify.utils.pitch_mapping]\n",
      "WARNING: InputWarning: Given center pitch is outside the pitch range, defaulting to the mean. [astronify.utils.pitch_mapping]\n",
      "WARNING: InputWarning: Given center pitch is outside the pitch range, defaulting to the mean. [astronify.utils.pitch_mapping]\n",
      "WARNING: InputWarning: Given center pitch is outside the pitch range, defaulting to the mean. [astronify.utils.pitch_mapping]\n",
      "WARNING: InputWarning: Given center pitch is outside the pitch range, defaulting to the mean. [astronify.utils.pitch_mapping]\n",
      "WARNING: InputWarning: Given center pitch is outside the pitch range, defaulting to the mean. [astronify.utils.pitch_mapping]\n",
      "WARNING: InputWarning: Given center pitch is outside the pitch range, defaulting to the mean. [astronify.utils.pitch_mapping]\n",
      "WARNING: InputWarning: Given center pitch is outside the pitch range, defaulting to the mean. [astronify.utils.pitch_mapping]\n",
      "WARNING: InputWarning: Given center pitch is outside the pitch range, defaulting to the mean. [astronify.utils.pitch_mapping]\n",
      "WARNING: InputWarning: Given center pitch is outside the pitch range, defaulting to the mean. [astronify.utils.pitch_mapping]\n"
     ]
    }
   ],
   "source": [
    "for j in transit_n:\n",
    "                   \n",
    "    for i in noise_sd:\n",
    "        \n",
    "        # Relating the transit start to the number of transits we want in the curve, from the set [1,2]\n",
    "        t_start = int(transit_length/(2.*j)-(transit_length*width_param)/2. + \n",
    "                      random.randint(-1*(transit_length/j)/4, (transit_length/j)/4)) \n",
    "        \n",
    "        k = int(random.uniform(5*len(df),(5*len(df)+4))) # k is related to the iteration of the for loop, so is unique.\n",
    "        \n",
    "        lc_data_transit = simulator.simulated_lc(\"transit\", \n",
    "                                         visualize = False, \n",
    "                                         transit_depth = t_depth,\n",
    "                                         transit_period = transit_length/j, \n",
    "                                         transit_width = int(t_width),\n",
    "                                         transit_start = t_start,\n",
    "                                         lc_noise = i, \n",
    "                                         lc_length = transit_length) # The actual curve we'll use\n",
    "        \n",
    "        lc_data_transit0 = simulator.simulated_lc(\"transit\", \n",
    "                                         visualize = False, \n",
    "                                         transit_depth = t_depth,\n",
    "                                         transit_period = transit_length/j, \n",
    "                                         transit_width = int(t_width),\n",
    "                                         transit_start = t_start,\n",
    "                                         lc_noise = 0, \n",
    "                                         lc_length = transit_length) # A noiseless version of the same transit.\n",
    "\n",
    "\n",
    "        lc_sound_transit = series.SoniSeries(lc_data_transit) # Sonifying the data\n",
    "        lc_sound_transit.pitch_mapper.pitch_map_args[\"stretch\"] = 'linear'\n",
    "        lc_sound_transit.pitch_mapper.pitch_map_args[\"pitch_range\"] = [440,880]\n",
    "        lc_sound_transit_spacing = 0.01\n",
    "        lc_sound_transit.note_duration = 0.2\n",
    "        lc_sound_transit.sonify()\n",
    "\n",
    "        lc_sound_transit.write(\"sonification\" + str(k) + \".wav\")\n",
    "        #--------------------------------------------------------------------------------------------------------------------\n",
    "        f, ax = plt.subplots(figsize=(12, 6))\n",
    "        ax.plot(lc_data_transit['time'], lc_data_transit['flux'],'-o', linewidth=0)\n",
    "        ax.set_xlabel(\"Time (JD)\")\n",
    "        ax.set_ylabel(\"Flux\")\n",
    "        plt.savefig(\"plot\" + str(k) + \".jpg\") # Saving a plot to a file\n",
    "        plt.close()\n",
    "        \n",
    "        df = df.append({'Number of transits':int(j),\n",
    "                        'Value of SNR':math.ceil((t_depth*np.sqrt(t_width))/i),\n",
    "                        'Tag':k},\n",
    "                        ignore_index=True)\n",
    "        #-------------------------------------------------------------------------------------------------------------------\n",
    "        f, ax = plt.subplots(figsize=(12, 6))\n",
    "        ax.plot(lc_data_transit0['time'], lc_data_transit0['flux'],'-o', linewidth=0)\n",
    "        ax.set_xlabel(\"Time (JD)\")\n",
    "        ax.set_ylabel(\"Flux\")\n",
    "        #plt.savefig(\"plot\" + str(k) + \"noiseless.jpg\") # Optional, saving the noiseless version of the data to a plot\n",
    "        plt.close()\n",
    "        \n",
    "print(\"Generation of non-zero transit data finished\")"
   ]
  },
  {
   "cell_type": "markdown",
   "metadata": {},
   "source": [
    "Looking at the 'tag' database, to confirm we have 12 unique curves."
   ]
  },
  {
   "cell_type": "code",
   "execution_count": 124,
   "metadata": {
    "ExecuteTime": {
     "end_time": "2021-07-07T13:53:59.384620Z",
     "start_time": "2021-07-07T13:53:59.375168Z"
    }
   },
   "outputs": [
    {
     "data": {
      "text/html": [
       "<div>\n",
       "<style scoped>\n",
       "    .dataframe tbody tr th:only-of-type {\n",
       "        vertical-align: middle;\n",
       "    }\n",
       "\n",
       "    .dataframe tbody tr th {\n",
       "        vertical-align: top;\n",
       "    }\n",
       "\n",
       "    .dataframe thead th {\n",
       "        text-align: right;\n",
       "    }\n",
       "</style>\n",
       "<table border=\"1\" class=\"dataframe\">\n",
       "  <thead>\n",
       "    <tr style=\"text-align: right;\">\n",
       "      <th></th>\n",
       "      <th>Number of transits</th>\n",
       "      <th>Value of SNR</th>\n",
       "      <th>Tag</th>\n",
       "    </tr>\n",
       "  </thead>\n",
       "  <tbody>\n",
       "    <tr>\n",
       "      <th>0</th>\n",
       "      <td>1.0</td>\n",
       "      <td>3.0</td>\n",
       "      <td>2.0</td>\n",
       "    </tr>\n",
       "    <tr>\n",
       "      <th>1</th>\n",
       "      <td>1.0</td>\n",
       "      <td>5.0</td>\n",
       "      <td>6.0</td>\n",
       "    </tr>\n",
       "    <tr>\n",
       "      <th>2</th>\n",
       "      <td>1.0</td>\n",
       "      <td>7.0</td>\n",
       "      <td>13.0</td>\n",
       "    </tr>\n",
       "    <tr>\n",
       "      <th>3</th>\n",
       "      <td>1.0</td>\n",
       "      <td>10.0</td>\n",
       "      <td>17.0</td>\n",
       "    </tr>\n",
       "    <tr>\n",
       "      <th>4</th>\n",
       "      <td>1.0</td>\n",
       "      <td>30.0</td>\n",
       "      <td>20.0</td>\n",
       "    </tr>\n",
       "    <tr>\n",
       "      <th>5</th>\n",
       "      <td>1.0</td>\n",
       "      <td>100.0</td>\n",
       "      <td>27.0</td>\n",
       "    </tr>\n",
       "    <tr>\n",
       "      <th>6</th>\n",
       "      <td>2.0</td>\n",
       "      <td>3.0</td>\n",
       "      <td>33.0</td>\n",
       "    </tr>\n",
       "    <tr>\n",
       "      <th>7</th>\n",
       "      <td>2.0</td>\n",
       "      <td>5.0</td>\n",
       "      <td>36.0</td>\n",
       "    </tr>\n",
       "    <tr>\n",
       "      <th>8</th>\n",
       "      <td>2.0</td>\n",
       "      <td>7.0</td>\n",
       "      <td>42.0</td>\n",
       "    </tr>\n",
       "    <tr>\n",
       "      <th>9</th>\n",
       "      <td>2.0</td>\n",
       "      <td>10.0</td>\n",
       "      <td>47.0</td>\n",
       "    </tr>\n",
       "    <tr>\n",
       "      <th>10</th>\n",
       "      <td>2.0</td>\n",
       "      <td>30.0</td>\n",
       "      <td>50.0</td>\n",
       "    </tr>\n",
       "    <tr>\n",
       "      <th>11</th>\n",
       "      <td>2.0</td>\n",
       "      <td>100.0</td>\n",
       "      <td>56.0</td>\n",
       "    </tr>\n",
       "  </tbody>\n",
       "</table>\n",
       "</div>"
      ],
      "text/plain": [
       "    Number of transits  Value of SNR   Tag\n",
       "0                  1.0           3.0   2.0\n",
       "1                  1.0           5.0   6.0\n",
       "2                  1.0           7.0  13.0\n",
       "3                  1.0          10.0  17.0\n",
       "4                  1.0          30.0  20.0\n",
       "5                  1.0         100.0  27.0\n",
       "6                  2.0           3.0  33.0\n",
       "7                  2.0           5.0  36.0\n",
       "8                  2.0           7.0  42.0\n",
       "9                  2.0          10.0  47.0\n",
       "10                 2.0          30.0  50.0\n",
       "11                 2.0         100.0  56.0"
      ]
     },
     "metadata": {},
     "output_type": "display_data"
    }
   ],
   "source": [
    "display(df)"
   ]
  },
  {
   "cell_type": "markdown",
   "metadata": {},
   "source": [
    "## Curves of zero transits"
   ]
  },
  {
   "cell_type": "markdown",
   "metadata": {},
   "source": [
    "Now we just need to generate curves of zero transits for each value of SNR. We'll do this by using astronify's 'flat' type of curve, adding the varying values of noise, and then appending their information and tags to the database as before. "
   ]
  },
  {
   "cell_type": "code",
   "execution_count": 125,
   "metadata": {
    "ExecuteTime": {
     "end_time": "2021-07-07T13:54:12.801307Z",
     "start_time": "2021-07-07T13:54:04.603642Z"
    }
   },
   "outputs": [
    {
     "name": "stderr",
     "output_type": "stream",
     "text": [
      "WARNING: InputWarning: Given center pitch is outside the pitch range, defaulting to the mean. [astronify.utils.pitch_mapping]\n",
      "WARNING: InputWarning: Given center pitch is outside the pitch range, defaulting to the mean. [astronify.utils.pitch_mapping]\n",
      "WARNING: InputWarning: Given center pitch is outside the pitch range, defaulting to the mean. [astronify.utils.pitch_mapping]\n",
      "WARNING: InputWarning: Given center pitch is outside the pitch range, defaulting to the mean. [astronify.utils.pitch_mapping]\n",
      "WARNING: InputWarning: Given center pitch is outside the pitch range, defaulting to the mean. [astronify.utils.pitch_mapping]\n",
      "WARNING: InputWarning: Given center pitch is outside the pitch range, defaulting to the mean. [astronify.utils.pitch_mapping]\n"
     ]
    }
   ],
   "source": [
    "for i in noise_sd: \n",
    "\n",
    "        j = int(random.uniform(5*len(df),(5*len(df)+4)))  \n",
    "    \n",
    "        lc_data_transit = simulator.simulated_lc(\"flat\", \n",
    "                                         visualize = False, \n",
    "                                         transit_depth = t_depth,\n",
    "                                         transit_period = transit_length,\n",
    "                                         transit_width = int(t_width),\n",
    "                                         lc_noise = i, \n",
    "                                         lc_length = transit_length)\n",
    "\n",
    "\n",
    "        lc_sound_transit = series.SoniSeries(lc_data_transit)\n",
    "        lc_sound_transit.pitch_mapper.pitch_map_args[\"stretch\"] = 'linear'\n",
    "        lc_sound_transit.pitch_mapper.pitch_map_args[\"pitch_range\"] = [440,880]\n",
    "        lc_sound_transit_spacing = 0.01\n",
    "        lc_sound_transit.note_duration = 0.2\n",
    "        lc_sound_transit.sonify()\n",
    "        lc_sound_transit.write(\"sonification\" + str(j) + \".wav\")\n",
    "        #--------------------------------------------------------------------------------------------------------------------\n",
    "        f, ax = plt.subplots(figsize=(12, 6))\n",
    "        ax.plot(lc_data_transit['time'], lc_data_transit['flux'],'-o', linewidth=0)\n",
    "        ax.set_xlabel(\"Time (JD)\")\n",
    "        ax.set_ylabel(\"Flux\")\n",
    "        plt.savefig(\"plot\" + str(j) + \".jpg\")\n",
    "        plt.close()\n",
    "\n",
    "        df = df.append({'Number of transits':0,\n",
    "                      'Value of SNR':math.ceil((25*np.sqrt(transit_length*width_param))/i),\n",
    "                      'Tag':j},\n",
    "                      ignore_index=True)\n",
    "\n",
    "print(\"Generation of zero transit data finished\")"
   ]
  },
  {
   "cell_type": "markdown",
   "metadata": {},
   "source": [
    "We should now have 18 curves, with 6 different values of SNR, 3 different numbers of transits, and unique random tags for each curve."
   ]
  },
  {
   "cell_type": "code",
   "execution_count": 126,
   "metadata": {
    "ExecuteTime": {
     "end_time": "2021-07-07T13:54:12.880670Z",
     "start_time": "2021-07-07T13:54:12.868768Z"
    }
   },
   "outputs": [
    {
     "data": {
      "text/html": [
       "<div>\n",
       "<style scoped>\n",
       "    .dataframe tbody tr th:only-of-type {\n",
       "        vertical-align: middle;\n",
       "    }\n",
       "\n",
       "    .dataframe tbody tr th {\n",
       "        vertical-align: top;\n",
       "    }\n",
       "\n",
       "    .dataframe thead th {\n",
       "        text-align: right;\n",
       "    }\n",
       "</style>\n",
       "<table border=\"1\" class=\"dataframe\">\n",
       "  <thead>\n",
       "    <tr style=\"text-align: right;\">\n",
       "      <th></th>\n",
       "      <th>Number of transits</th>\n",
       "      <th>Value of SNR</th>\n",
       "      <th>Tag</th>\n",
       "    </tr>\n",
       "  </thead>\n",
       "  <tbody>\n",
       "    <tr>\n",
       "      <th>0</th>\n",
       "      <td>1.0</td>\n",
       "      <td>3.0</td>\n",
       "      <td>2.0</td>\n",
       "    </tr>\n",
       "    <tr>\n",
       "      <th>1</th>\n",
       "      <td>1.0</td>\n",
       "      <td>5.0</td>\n",
       "      <td>6.0</td>\n",
       "    </tr>\n",
       "    <tr>\n",
       "      <th>2</th>\n",
       "      <td>1.0</td>\n",
       "      <td>7.0</td>\n",
       "      <td>13.0</td>\n",
       "    </tr>\n",
       "    <tr>\n",
       "      <th>3</th>\n",
       "      <td>1.0</td>\n",
       "      <td>10.0</td>\n",
       "      <td>17.0</td>\n",
       "    </tr>\n",
       "    <tr>\n",
       "      <th>4</th>\n",
       "      <td>1.0</td>\n",
       "      <td>30.0</td>\n",
       "      <td>20.0</td>\n",
       "    </tr>\n",
       "    <tr>\n",
       "      <th>5</th>\n",
       "      <td>1.0</td>\n",
       "      <td>100.0</td>\n",
       "      <td>27.0</td>\n",
       "    </tr>\n",
       "    <tr>\n",
       "      <th>6</th>\n",
       "      <td>2.0</td>\n",
       "      <td>3.0</td>\n",
       "      <td>33.0</td>\n",
       "    </tr>\n",
       "    <tr>\n",
       "      <th>7</th>\n",
       "      <td>2.0</td>\n",
       "      <td>5.0</td>\n",
       "      <td>36.0</td>\n",
       "    </tr>\n",
       "    <tr>\n",
       "      <th>8</th>\n",
       "      <td>2.0</td>\n",
       "      <td>7.0</td>\n",
       "      <td>42.0</td>\n",
       "    </tr>\n",
       "    <tr>\n",
       "      <th>9</th>\n",
       "      <td>2.0</td>\n",
       "      <td>10.0</td>\n",
       "      <td>47.0</td>\n",
       "    </tr>\n",
       "    <tr>\n",
       "      <th>10</th>\n",
       "      <td>2.0</td>\n",
       "      <td>30.0</td>\n",
       "      <td>50.0</td>\n",
       "    </tr>\n",
       "    <tr>\n",
       "      <th>11</th>\n",
       "      <td>2.0</td>\n",
       "      <td>100.0</td>\n",
       "      <td>56.0</td>\n",
       "    </tr>\n",
       "    <tr>\n",
       "      <th>12</th>\n",
       "      <td>0.0</td>\n",
       "      <td>3.0</td>\n",
       "      <td>62.0</td>\n",
       "    </tr>\n",
       "    <tr>\n",
       "      <th>13</th>\n",
       "      <td>0.0</td>\n",
       "      <td>5.0</td>\n",
       "      <td>68.0</td>\n",
       "    </tr>\n",
       "    <tr>\n",
       "      <th>14</th>\n",
       "      <td>0.0</td>\n",
       "      <td>7.0</td>\n",
       "      <td>71.0</td>\n",
       "    </tr>\n",
       "    <tr>\n",
       "      <th>15</th>\n",
       "      <td>0.0</td>\n",
       "      <td>10.0</td>\n",
       "      <td>75.0</td>\n",
       "    </tr>\n",
       "    <tr>\n",
       "      <th>16</th>\n",
       "      <td>0.0</td>\n",
       "      <td>30.0</td>\n",
       "      <td>82.0</td>\n",
       "    </tr>\n",
       "    <tr>\n",
       "      <th>17</th>\n",
       "      <td>0.0</td>\n",
       "      <td>100.0</td>\n",
       "      <td>88.0</td>\n",
       "    </tr>\n",
       "  </tbody>\n",
       "</table>\n",
       "</div>"
      ],
      "text/plain": [
       "    Number of transits  Value of SNR   Tag\n",
       "0                  1.0           3.0   2.0\n",
       "1                  1.0           5.0   6.0\n",
       "2                  1.0           7.0  13.0\n",
       "3                  1.0          10.0  17.0\n",
       "4                  1.0          30.0  20.0\n",
       "5                  1.0         100.0  27.0\n",
       "6                  2.0           3.0  33.0\n",
       "7                  2.0           5.0  36.0\n",
       "8                  2.0           7.0  42.0\n",
       "9                  2.0          10.0  47.0\n",
       "10                 2.0          30.0  50.0\n",
       "11                 2.0         100.0  56.0\n",
       "12                 0.0           3.0  62.0\n",
       "13                 0.0           5.0  68.0\n",
       "14                 0.0           7.0  71.0\n",
       "15                 0.0          10.0  75.0\n",
       "16                 0.0          30.0  82.0\n",
       "17                 0.0         100.0  88.0"
      ]
     },
     "metadata": {},
     "output_type": "display_data"
    }
   ],
   "source": [
    "display(df)"
   ]
  },
  {
   "cell_type": "markdown",
   "metadata": {},
   "source": [
    "## Writing ffmpeg files"
   ]
  },
  {
   "cell_type": "markdown",
   "metadata": {},
   "source": [
    "We now have 18 curves, that are saved in two different formats. Lastly, to generate a full database of 54 test data sets as orignally intended, we need to essentially stitch together a curve's sonification to it's corresponding plot. We'll do this using ffmpeg (this will need to be installed on your system for this section to work). https://www.wikihow.com/Install-FFmpeg-on-Windows. \n",
    "\n",
    "The sonifications and plots will have saved to the directory you're running this notebook from. Once you've installed ffmpeg, I would copy the sonifications and plots into two separate folders in the notebook directory, then copy these two folders into the ffmpeg directory (e.g. C:\\ffmpeg)\n",
    "\n",
    "The command below will then run an ffmpeg command in the console to put together corresponding sonifications and plots.\n",
    "\n",
    "Scriptable??"
   ]
  },
  {
   "cell_type": "code",
   "execution_count": null,
   "metadata": {},
   "outputs": [],
   "source": [
    "! C:\\ffmpeg -i still.png -i narrate.wav -acodec libvo_aacenc -vcodec libx264 final.flv"
   ]
  },
  {
   "cell_type": "code",
   "execution_count": 35,
   "metadata": {
    "ExecuteTime": {
     "end_time": "2021-04-27T12:26:27.928769Z",
     "start_time": "2021-04-27T12:26:26.014197Z"
    }
   },
   "outputs": [
    {
     "name": "stderr",
     "output_type": "stream",
     "text": [
      "ffmpeg version 2021-02-28-git-85ab9deb98-full_build-www.gyan.dev Copyright (c) 2000-2021 the FFmpeg developers\n",
      "  built with gcc 10.2.0 (Rev6, Built by MSYS2 project)\n",
      "  configuration: --enable-gpl --enable-version3 --enable-static --disable-w32threads --disable-autodetect --enable-fontconfig --enable-iconv --enable-gnutls --enable-libxml2 --enable-gmp --enable-lzma --enable-libsnappy --enable-zlib --enable-libsrt --enable-libssh --enable-libzmq --enable-avisynth --enable-libbluray --enable-libcaca --enable-sdl2 --enable-libdav1d --enable-libzvbi --enable-librav1e --enable-libsvtav1 --enable-libwebp --enable-libx264 --enable-libx265 --enable-libxvid --enable-libaom --enable-libopenjpeg --enable-libvpx --enable-libass --enable-frei0r --enable-libfreetype --enable-libfribidi --enable-libvidstab --enable-libvmaf --enable-libzimg --enable-amf --enable-cuda-llvm --enable-cuvid --enable-ffnvcodec --enable-nvdec --enable-nvenc --enable-d3d11va --enable-dxva2 --enable-libmfx --enable-libglslang --enable-vulkan --enable-opencl --enable-libcdio --enable-libgme --enable-libmodplug --enable-libopenmpt --enable-libopencore-amrwb --enable-libmp3lame --enable-libshine --enable-libtheora --enable-libtwolame --enable-libvo-amrwbenc --enable-libilbc --enable-libgsm --enable-libopencore-amrnb --enable-libopus --enable-libspeex --enable-libvorbis --enable-ladspa --enable-libbs2b --enable-libflite --enable-libmysofa --enable-librubberband --enable-libsoxr --enable-chromaprint\n",
      "  libavutil      56. 66.100 / 56. 66.100\n",
      "  libavcodec     58.126.100 / 58.126.100\n",
      "  libavformat    58. 68.100 / 58. 68.100\n",
      "  libavdevice    58. 12.100 / 58. 12.100\n",
      "  libavfilter     7.107.100 /  7.107.100\n",
      "  libswscale      5.  8.100 /  5.  8.100\n",
      "  libswresample   3.  8.100 /  3.  8.100\n",
      "  libpostproc    55.  8.100 / 55.  8.100\n",
      "Input #0, image2, from 'C:\\ffmpeg\\plots\\ex_noisy.jpg':\n",
      "  Duration: 00:00:00.04, start: 0.000000, bitrate: 14160 kb/s\n",
      "  Stream #0:0: Video: mjpeg (Baseline), yuvj420p(pc, bt470bg/unknown/unknown), 864x432 [SAR 72:72 DAR 2:1], 25 fps, 25 tbr, 25 tbn, 25 tbc\n",
      "Guessed Channel Layout for Input Stream #1.0 : stereo\n",
      "Input #1, wav, from 'C:\\ffmpeg\\sonifications\\ex_noisy.wav':\n",
      "  Duration: 00:00:10.19, bitrate: 1411 kb/s\n",
      "  Stream #1:0: Audio: pcm_s16le ([1][0][0][0] / 0x0001), 44100 Hz, stereo, s16, 1411 kb/s\n",
      "Stream mapping:\n",
      "  Stream #0:0 -> #0:0 (mjpeg (native) -> h264 (libx264))\n",
      "  Stream #1:0 -> #0:1 (pcm_s16le (native) -> aac (native))\n",
      "Press [q] to stop, [?] for help\n",
      "[swscaler @ 000001dd6b9767c0] deprecated pixel format used, make sure you did set range correctly\n",
      "[libx264 @ 000001dd6b063440] using SAR=1/1\n",
      "[libx264 @ 000001dd6b063440] using cpu capabilities: MMX2 SSE2Fast SSSE3 SSE4.2 AVX FMA3 BMI2 AVX2\n",
      "[libx264 @ 000001dd6b063440] profile High, level 3.0, 4:2:0, 8-bit\n",
      "[libx264 @ 000001dd6b063440] 264 - core 161 r3048 b86ae3c - H.264/MPEG-4 AVC codec - Copyleft 2003-2021 - http://www.videolan.org/x264.html - options: cabac=1 ref=3 deblock=1:-3:-3 analyse=0x3:0x113 me=hex subme=7 psy=1 psy_rd=2.00:0.70 mixed_ref=1 me_range=16 chroma_me=1 trellis=1 8x8dct=1 cqm=0 deadzone=21,11 fast_pskip=1 chroma_qp_offset=-4 threads=12 lookahead_threads=2 sliced_threads=0 nr=0 decimate=1 interlaced=0 bluray_compat=0 constrained_intra=0 bframes=3 b_pyramid=2 b_adapt=1 b_bias=0 direct=1 weightb=1 open_gop=0 weightp=2 keyint=250 keyint_min=25 scenecut=40 intra_refresh=0 rc_lookahead=40 rc=crf mbtree=1 crf=23.0 qcomp=0.60 qpmin=0 qpmax=69 qpstep=4 ip_ratio=1.40 aq=1:1.20\n",
      "Output #0, mp4, to 'C:\\ffmpeg\\combined\\out_noisy.mp4':\n",
      "  Metadata:\n",
      "    encoder         : Lavf58.68.100\n",
      "  Stream #0:0: Video: h264 (avc1 / 0x31637661), yuv420p(tv, bt470bg/unknown/unknown, progressive), 864x432 [SAR 1:1 DAR 2:1], q=2-31, 25 fps, 12800 tbn\n",
      "    Metadata:\n",
      "      encoder         : Lavc58.126.100 libx264\n",
      "    Side data:\n",
      "      cpb: bitrate max/min/avg: 0/0/0 buffer size: 0 vbv_delay: N/A\n",
      "  Stream #0:1: Audio: aac (LC) (mp4a / 0x6134706D), 44100 Hz, stereo, fltp, 192 kb/s\n",
      "    Metadata:\n",
      "      encoder         : Lavc58.126.100 aac\n",
      "frame=    1 fps=0.0 q=0.0 size=       0kB time=00:00:00.00 bitrate=N/A speed=   0x    \n",
      "frame=  112 fps=0.0 q=28.0 size=       0kB time=00:00:02.13 bitrate=   0.2kbits/s speed=4.19x    \n",
      "frame=  196 fps=194 q=28.0 size=       0kB time=00:00:05.48 bitrate=   0.1kbits/s speed=5.43x    \n",
      "frame=  278 fps=184 q=28.0 size=       0kB time=00:00:08.76 bitrate=   0.0kbits/s speed= 5.8x    \n",
      "frame=  313 fps=176 q=-1.0 Lsize=     215kB time=00:00:12.40 bitrate= 141.9kbits/s speed=6.96x    \n",
      "video:75kB audio:130kB subtitle:0kB other streams:0kB global headers:0kB muxing overhead: 5.127555%\n",
      "[libx264 @ 000001dd6b063440] frame I:2     Avg QP:12.13  size: 32758\n",
      "[libx264 @ 000001dd6b063440] frame P:79    Avg QP: 6.82  size:    36\n",
      "[libx264 @ 000001dd6b063440] frame B:232   Avg QP: 9.67  size:    32\n",
      "[libx264 @ 000001dd6b063440] consecutive B-frames:  1.0%  0.6%  0.0% 98.4%\n",
      "[libx264 @ 000001dd6b063440] mb I  I16..4: 61.0% 17.6% 21.3%\n",
      "[libx264 @ 000001dd6b063440] mb P  I16..4:  0.0%  0.0%  0.0%  P16..4:  0.0%  0.0%  0.0%  0.0%  0.0%    skip:100.0%\n",
      "[libx264 @ 000001dd6b063440] mb B  I16..4:  0.0%  0.0%  0.0%  B16..8:  0.3%  0.0%  0.0%  direct: 0.0%  skip:99.7%  L0:68.1% L1:31.9% BI: 0.0%\n",
      "[libx264 @ 000001dd6b063440] 8x8 transform intra:17.6% inter:60.5%\n",
      "[libx264 @ 000001dd6b063440] coded y,uvDC,uvAC intra: 15.9% 18.6% 17.8% inter: 0.0% 0.0% 0.0%\n",
      "[libx264 @ 000001dd6b063440] i16 v,h,dc,p: 82% 11%  7%  0%\n",
      "[libx264 @ 000001dd6b063440] i8 v,h,dc,ddl,ddr,vr,hd,vl,hu: 67%  6% 26%  0%  0%  0%  0%  0%  0%\n",
      "[libx264 @ 000001dd6b063440] i4 v,h,dc,ddl,ddr,vr,hd,vl,hu: 26% 18% 20%  6%  6%  6%  7%  5%  6%\n",
      "[libx264 @ 000001dd6b063440] i8c dc,h,v,p: 88%  4%  5%  3%\n",
      "[libx264 @ 000001dd6b063440] Weighted P-Frames: Y:0.0% UV:0.0%\n",
      "[libx264 @ 000001dd6b063440] ref P L0: 72.1% 22.1%  5.9%\n",
      "[libx264 @ 000001dd6b063440] ref B L0: 46.1% 53.9%\n",
      "[libx264 @ 000001dd6b063440] kb/s:48.36\n",
      "[aac @ 000001dd6b0a3940] Qavg: 65216.711\n"
     ]
    }
   ],
   "source": [
    "! C:\\ffmpeg\\bin\\ffmpeg -loop 1 -i \\\n",
    "  C:\\ffmpeg\\plots\\ex_noisy.jpg -i \\\n",
    "  C:\\ffmpeg\\sonifications\\ex_noisy.wav \\\n",
    "  -c:v libx264 -tune stillimage -c:a aac -b:a 192k -pix_fmt yuv420p -shortest \\\n",
    "  C:\\ffmpeg\\combined\\out_noisy.mp4"
   ]
  },
  {
   "cell_type": "markdown",
   "metadata": {
    "heading_collapsed": true
   },
   "source": [
    "# Writing the dataframe to a file for reference."
   ]
  },
  {
   "cell_type": "markdown",
   "metadata": {
    "hidden": true
   },
   "source": [
    "This is commented so that it doesn't overwrite my original data."
   ]
  },
  {
   "cell_type": "code",
   "execution_count": 96,
   "metadata": {
    "ExecuteTime": {
     "end_time": "2021-07-07T12:59:22.766451Z",
     "start_time": "2021-07-07T12:59:22.753061Z"
    },
    "hidden": true
   },
   "outputs": [
    {
     "data": {
      "text/html": [
       "<div>\n",
       "<style scoped>\n",
       "    .dataframe tbody tr th:only-of-type {\n",
       "        vertical-align: middle;\n",
       "    }\n",
       "\n",
       "    .dataframe tbody tr th {\n",
       "        vertical-align: top;\n",
       "    }\n",
       "\n",
       "    .dataframe thead th {\n",
       "        text-align: right;\n",
       "    }\n",
       "</style>\n",
       "<table border=\"1\" class=\"dataframe\">\n",
       "  <thead>\n",
       "    <tr style=\"text-align: right;\">\n",
       "      <th></th>\n",
       "      <th>Number of transits</th>\n",
       "      <th>Value of SNR</th>\n",
       "      <th>Tag</th>\n",
       "    </tr>\n",
       "  </thead>\n",
       "  <tbody>\n",
       "    <tr>\n",
       "      <th>0</th>\n",
       "      <td>1.0</td>\n",
       "      <td>3.0</td>\n",
       "      <td>3.0</td>\n",
       "    </tr>\n",
       "    <tr>\n",
       "      <th>1</th>\n",
       "      <td>1.0</td>\n",
       "      <td>5.0</td>\n",
       "      <td>7.0</td>\n",
       "    </tr>\n",
       "    <tr>\n",
       "      <th>2</th>\n",
       "      <td>1.0</td>\n",
       "      <td>7.0</td>\n",
       "      <td>13.0</td>\n",
       "    </tr>\n",
       "    <tr>\n",
       "      <th>3</th>\n",
       "      <td>1.0</td>\n",
       "      <td>10.0</td>\n",
       "      <td>15.0</td>\n",
       "    </tr>\n",
       "    <tr>\n",
       "      <th>4</th>\n",
       "      <td>1.0</td>\n",
       "      <td>30.0</td>\n",
       "      <td>22.0</td>\n",
       "    </tr>\n",
       "    <tr>\n",
       "      <th>5</th>\n",
       "      <td>1.0</td>\n",
       "      <td>100.0</td>\n",
       "      <td>27.0</td>\n",
       "    </tr>\n",
       "    <tr>\n",
       "      <th>6</th>\n",
       "      <td>2.0</td>\n",
       "      <td>3.0</td>\n",
       "      <td>30.0</td>\n",
       "    </tr>\n",
       "    <tr>\n",
       "      <th>7</th>\n",
       "      <td>2.0</td>\n",
       "      <td>5.0</td>\n",
       "      <td>37.0</td>\n",
       "    </tr>\n",
       "    <tr>\n",
       "      <th>8</th>\n",
       "      <td>2.0</td>\n",
       "      <td>7.0</td>\n",
       "      <td>42.0</td>\n",
       "    </tr>\n",
       "    <tr>\n",
       "      <th>9</th>\n",
       "      <td>2.0</td>\n",
       "      <td>10.0</td>\n",
       "      <td>45.0</td>\n",
       "    </tr>\n",
       "    <tr>\n",
       "      <th>10</th>\n",
       "      <td>2.0</td>\n",
       "      <td>30.0</td>\n",
       "      <td>50.0</td>\n",
       "    </tr>\n",
       "    <tr>\n",
       "      <th>11</th>\n",
       "      <td>2.0</td>\n",
       "      <td>100.0</td>\n",
       "      <td>56.0</td>\n",
       "    </tr>\n",
       "    <tr>\n",
       "      <th>12</th>\n",
       "      <td>0.0</td>\n",
       "      <td>3.0</td>\n",
       "      <td>63.0</td>\n",
       "    </tr>\n",
       "    <tr>\n",
       "      <th>13</th>\n",
       "      <td>0.0</td>\n",
       "      <td>5.0</td>\n",
       "      <td>66.0</td>\n",
       "    </tr>\n",
       "    <tr>\n",
       "      <th>14</th>\n",
       "      <td>0.0</td>\n",
       "      <td>7.0</td>\n",
       "      <td>71.0</td>\n",
       "    </tr>\n",
       "    <tr>\n",
       "      <th>15</th>\n",
       "      <td>0.0</td>\n",
       "      <td>10.0</td>\n",
       "      <td>75.0</td>\n",
       "    </tr>\n",
       "    <tr>\n",
       "      <th>16</th>\n",
       "      <td>0.0</td>\n",
       "      <td>30.0</td>\n",
       "      <td>83.0</td>\n",
       "    </tr>\n",
       "    <tr>\n",
       "      <th>17</th>\n",
       "      <td>0.0</td>\n",
       "      <td>100.0</td>\n",
       "      <td>85.0</td>\n",
       "    </tr>\n",
       "  </tbody>\n",
       "</table>\n",
       "</div>"
      ],
      "text/plain": [
       "    Number of transits  Value of SNR   Tag\n",
       "0                  1.0           3.0   3.0\n",
       "1                  1.0           5.0   7.0\n",
       "2                  1.0           7.0  13.0\n",
       "3                  1.0          10.0  15.0\n",
       "4                  1.0          30.0  22.0\n",
       "5                  1.0         100.0  27.0\n",
       "6                  2.0           3.0  30.0\n",
       "7                  2.0           5.0  37.0\n",
       "8                  2.0           7.0  42.0\n",
       "9                  2.0          10.0  45.0\n",
       "10                 2.0          30.0  50.0\n",
       "11                 2.0         100.0  56.0\n",
       "12                 0.0           3.0  63.0\n",
       "13                 0.0           5.0  66.0\n",
       "14                 0.0           7.0  71.0\n",
       "15                 0.0          10.0  75.0\n",
       "16                 0.0          30.0  83.0\n",
       "17                 0.0         100.0  85.0"
      ]
     },
     "metadata": {},
     "output_type": "display_data"
    }
   ],
   "source": [
    "display(df)\n",
    "#df.to_excel(r'C:\\Users\\jackt\\OneDrive - Newcastle University\\Project\\Tag spreadsheet.xlsx', \n",
    "#            index = False)"
   ]
  },
  {
   "cell_type": "code",
   "execution_count": null,
   "metadata": {
    "hidden": true
   },
   "outputs": [],
   "source": []
  }
 ],
 "metadata": {
  "kernelspec": {
   "display_name": "Python 3",
   "language": "python",
   "name": "python3"
  },
  "language_info": {
   "codemirror_mode": {
    "name": "ipython",
    "version": 3
   },
   "file_extension": ".py",
   "mimetype": "text/x-python",
   "name": "python",
   "nbconvert_exporter": "python",
   "pygments_lexer": "ipython3",
   "version": "3.8.5"
  },
  "toc": {
   "base_numbering": 1,
   "nav_menu": {},
   "number_sections": true,
   "sideBar": true,
   "skip_h1_title": false,
   "title_cell": "Table of Contents",
   "title_sidebar": "Contents",
   "toc_cell": false,
   "toc_position": {},
   "toc_section_display": true,
   "toc_window_display": false
  },
  "varInspector": {
   "cols": {
    "lenName": 16,
    "lenType": 16,
    "lenVar": 40
   },
   "kernels_config": {
    "python": {
     "delete_cmd_postfix": "",
     "delete_cmd_prefix": "del ",
     "library": "var_list.py",
     "varRefreshCmd": "print(var_dic_list())"
    },
    "r": {
     "delete_cmd_postfix": ") ",
     "delete_cmd_prefix": "rm(",
     "library": "var_list.r",
     "varRefreshCmd": "cat(var_dic_list()) "
    }
   },
   "types_to_exclude": [
    "module",
    "function",
    "builtin_function_or_method",
    "instance",
    "_Feature"
   ],
   "window_display": false
  }
 },
 "nbformat": 4,
 "nbformat_minor": 4
}
